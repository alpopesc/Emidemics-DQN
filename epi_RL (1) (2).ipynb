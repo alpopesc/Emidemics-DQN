{
 "cells":[
  {
   "cell_type":"markdown",
   "source":[
    "# 🤒 Epidemic mitigation project"
   ],
   "attachments":{
    
   },
   "metadata":{
    "datalore":{
     "node_id":"dGgHASvVBfbXYlPb5S0nxh",
     "type":"MD",
     "hide_input_from_viewers":false,
     "hide_output_from_viewers":false,
     "report_properties":{
      "rowId":"Nu2wkxSJ92EzJEOW8xgFKI",
      "relativeY":0
     }
    }
   }
  },
  {
   "cell_type":"markdown",
   "source":[
    "## Google colab setup"
   ],
   "attachments":{
    
   },
   "metadata":{
    "datalore":{
     "node_id":"kbdHQPXoFXBKsynEHNBDnp",
     "type":"MD",
     "hide_input_from_viewers":true,
     "hide_output_from_viewers":true
    }
   }
  },
  {
   "cell_type":"code",
   "source":[
    "# Mount drive and define root path \n",
    "import os\n",
    "import sys\n",
    "\n",
    "#from google.colab import drive\n",
    "#drive.mount('\/content\/drive')\n",
    "\n",
    "ROOT_PATH = \"RL\" \n",
    "print(os.listdir(ROOT_PATH))\n",
    "\n",
    "sys.path.append(ROOT_PATH)"
   ],
   "execution_count":1,
   "outputs":[
    {
     "name":"stdout",
     "text":[
      "['.DS_Store', 'epidemic_env', 'readme.md', 'requirements_colab.txt', 'example.png', 'latex_template.tex', 'config', 'Miniproject_DQN.pdf', 'tutorial.ipynb', 'figures']\n"
     ],
     "output_type":"stream"
    }
   ],
   "metadata":{
    "datalore":{
     "node_id":"AEnTrdXc44nt8LHEN8wmkf",
     "type":"CODE",
     "hide_input_from_viewers":true,
     "hide_output_from_viewers":true
    }
   }
  },
  {
   "cell_type":"markdown",
   "source":[
    "## Installing and importing the relevant packages"
   ],
   "attachments":{
    
   },
   "metadata":{
    "datalore":{
     "node_id":"4rtsQIbEANmijboCfHSf0z",
     "type":"MD",
     "hide_input_from_viewers":true,
     "hide_output_from_viewers":true
    }
   }
  },
  {
   "cell_type":"code",
   "source":[
    "# Install necessary packages\n",
    "requirements = ROOT_PATH + \"\/requirements_colab.txt\"\n",
    "%pip install -r {requirements}"
   ],
   "execution_count":2,
   "outputs":[
    {
     "name":"stdout",
     "text":[
      "Requirement already satisfied: torchvision in \/opt\/python\/envs\/default\/lib\/python3.8\/site-packages (from -r RL\/requirements_colab.txt (line 1)) (0.15.2+rocm5.4.2)\r\n",
      "Collecting torchaudio (from -r RL\/requirements_colab.txt (line 2))\r\n",
      "  Downloading torchaudio-2.0.2-cp38-cp38-manylinux1_x86_64.whl (4.4 MB)\r\n",
      "\u001b[?25l     \u001b[90m━━━━━━━━━━━━━━━━━━━━━━━━━━━━━━━━━━━━━━━━\u001b[0m \u001b[32m0.0\/4.4 MB\u001b[0m \u001b[31m?\u001b[0m eta \u001b[36m-:--:--\u001b[0m\r\u001b[2K     \u001b[91m━━━━━━━━━━━━━━━━━━━━━━━━━━━━━━━━━━━━━━\u001b[0m\u001b[90m╺\u001b[0m\u001b[90m━\u001b[0m \u001b[32m4.2\/4.4 MB\u001b[0m \u001b[31m137.0 MB\/s\u001b[0m eta \u001b[36m0:00:01\u001b[0m\r\u001b[2K     \u001b[90m━━━━━━━━━━━━━━━━━━━━━━━━━━━━━━━━━━━━━━━━\u001b[0m \u001b[32m4.4\/4.4 MB\u001b[0m \u001b[31m75.3 MB\/s\u001b[0m eta \u001b[36m0:00:00\u001b[0m\r\n",
      "\u001b[?25hRequirement already satisfied: numpy in \/opt\/python\/envs\/default\/lib\/python3.8\/site-packages (from -r RL\/requirements_colab.txt (line 3)) (1.24.3)\r\n",
      "Requirement already satisfied: networkx in \/opt\/python\/envs\/default\/lib\/python3.8\/site-packages (from -r RL\/requirements_colab.txt (line 4)) (3.1)\r\n",
      "Requirement already satisfied: matplotlib in \/opt\/python\/envs\/default\/lib\/python3.8\/site-packages (from -r RL\/requirements_colab.txt (line 5)) (3.7.1)\r\n",
      "Requirement already satisfied: pyyaml in \/opt\/python\/envs\/default\/lib\/python3.8\/site-packages (from -r RL\/requirements_colab.txt (line 6)) (6.0)\r\n",
      "Requirement already satisfied: tqdm in \/opt\/python\/envs\/default\/lib\/python3.8\/site-packages (from -r RL\/requirements_colab.txt (line 7)) (4.65.0)\r\n",
      "Requirement already satisfied: pandas in \/opt\/python\/envs\/default\/lib\/python3.8\/site-packages (from -r RL\/requirements_colab.txt (line 8)) (1.5.3)\r\n",
      "Collecting gym (from -r RL\/requirements_colab.txt (line 9))\r\n",
      "  Downloading gym-0.26.2.tar.gz (721 kB)\r\n",
      "\u001b[?25l     \u001b[90m━━━━━━━━━━━━━━━━━━━━━━━━━━━━━━━━━━━━━━━━\u001b[0m \u001b[32m0.0\/721.7 kB\u001b[0m \u001b[31m?\u001b[0m eta \u001b[36m-:--:--\u001b[0m\r\u001b[2K     \u001b[90m━━━━━━━━━━━━━━━━━━━━━━━━━━━━━━━━━━━━━\u001b[0m \u001b[32m721.7\/721.7 kB\u001b[0m \u001b[31m107.0 MB\/s\u001b[0m eta \u001b[36m0:00:00\u001b[0m\r\n",
      "\u001b[?25h  Installing build dependencies ... \u001b[?25l-\b \b\\\b \b|\b \bdone\r\n",
      "\u001b[?25h  Getting requirements to build wheel ... \u001b[?25l-\b \bdone\r\n",
      "\u001b[?25h  Preparing metadata (pyproject.toml) ... \u001b[?25l-\b \bdone\r\n",
      "\u001b[?25hRequirement already satisfied: requests in \/opt\/python\/envs\/default\/lib\/python3.8\/site-packages (from torchvision->-r RL\/requirements_colab.txt (line 1)) (2.30.0)\r\n",
      "Requirement already satisfied: torch==2.0.1 in \/opt\/python\/envs\/default\/lib\/python3.8\/site-packages (from torchvision->-r RL\/requirements_colab.txt (line 1)) (2.0.1+cu117)\r\n",
      "Requirement already satisfied: pillow!=8.3.*,>=5.3.0 in \/opt\/python\/envs\/default\/lib\/python3.8\/site-packages (from torchvision->-r RL\/requirements_colab.txt (line 1)) (9.5.0)\r\n",
      "Requirement already satisfied: filelock in \/opt\/python\/envs\/default\/lib\/python3.8\/site-packages (from torch==2.0.1->torchvision->-r RL\/requirements_colab.txt (line 1)) (3.12.0)\r\n",
      "Requirement already satisfied: typing-extensions in \/opt\/python\/envs\/default\/lib\/python3.8\/site-packages (from torch==2.0.1->torchvision->-r RL\/requirements_colab.txt (line 1)) (4.6.1)\r\n",
      "Requirement already satisfied: sympy in \/opt\/python\/envs\/default\/lib\/python3.8\/site-packages (from torch==2.0.1->torchvision->-r RL\/requirements_colab.txt (line 1)) (1.12)\r\n",
      "Requirement already satisfied: jinja2 in \/opt\/python\/envs\/default\/lib\/python3.8\/site-packages (from torch==2.0.1->torchvision->-r RL\/requirements_colab.txt (line 1)) (3.1.2)\r\n",
      "Requirement already satisfied: triton==2.0.0 in \/opt\/python\/envs\/default\/lib\/python3.8\/site-packages (from torch==2.0.1->torchvision->-r RL\/requirements_colab.txt (line 1)) (2.0.0)\r\n",
      "Requirement already satisfied: cmake in \/opt\/python\/envs\/default\/lib\/python3.8\/site-packages (from triton==2.0.0->torch==2.0.1->torchvision->-r RL\/requirements_colab.txt (line 1)) (3.26.3)\r\n",
      "Requirement already satisfied: lit in \/opt\/python\/envs\/default\/lib\/python3.8\/site-packages (from triton==2.0.0->torch==2.0.1->torchvision->-r RL\/requirements_colab.txt (line 1)) (16.0.5)\r\n",
      "Requirement already satisfied: contourpy>=1.0.1 in \/opt\/python\/envs\/default\/lib\/python3.8\/site-packages (from matplotlib->-r RL\/requirements_colab.txt (line 5)) (1.0.7)\r\n",
      "Requirement already satisfied: cycler>=0.10 in \/opt\/python\/envs\/default\/lib\/python3.8\/site-packages (from matplotlib->-r RL\/requirements_colab.txt (line 5)) (0.11.0)\r\n",
      "Requirement already satisfied: fonttools>=4.22.0 in \/opt\/python\/envs\/default\/lib\/python3.8\/site-packages (from matplotlib->-r RL\/requirements_colab.txt (line 5)) (4.39.4)\r\n",
      "Requirement already satisfied: kiwisolver>=1.0.1 in \/opt\/python\/envs\/default\/lib\/python3.8\/site-packages (from matplotlib->-r RL\/requirements_colab.txt (line 5)) (1.4.4)\r\n",
      "Requirement already satisfied: packaging>=20.0 in \/opt\/python\/envs\/default\/lib\/python3.8\/site-packages (from matplotlib->-r RL\/requirements_colab.txt (line 5)) (23.1)\r\n",
      "Requirement already satisfied: pyparsing>=2.3.1 in \/opt\/python\/envs\/default\/lib\/python3.8\/site-packages (from matplotlib->-r RL\/requirements_colab.txt (line 5)) (3.0.9)\r\n",
      "Requirement already satisfied: python-dateutil>=2.7 in \/opt\/python\/envs\/default\/lib\/python3.8\/site-packages (from matplotlib->-r RL\/requirements_colab.txt (line 5)) (2.8.2)\r\n",
      "Requirement already satisfied: importlib-resources>=3.2.0 in \/opt\/python\/envs\/default\/lib\/python3.8\/site-packages (from matplotlib->-r RL\/requirements_colab.txt (line 5)) (5.12.0)\r\n",
      "Requirement already satisfied: pytz>=2020.1 in \/opt\/python\/envs\/default\/lib\/python3.8\/site-packages (from pandas->-r RL\/requirements_colab.txt (line 8)) (2023.3)\r\n",
      "Collecting cloudpickle>=1.2.0 (from gym->-r RL\/requirements_colab.txt (line 9))\r\n",
      "  Downloading cloudpickle-2.2.1-py3-none-any.whl (25 kB)\r\n",
      "Collecting gym-notices>=0.0.4 (from gym->-r RL\/requirements_colab.txt (line 9))\r\n",
      "  Downloading gym_notices-0.0.8-py3-none-any.whl (3.0 kB)\r\n",
      "Requirement already satisfied: importlib-metadata>=4.8.0 in \/opt\/python\/envs\/default\/lib\/python3.8\/site-packages (from gym->-r RL\/requirements_colab.txt (line 9)) (6.6.0)\r\n",
      "Requirement already satisfied: zipp>=0.5 in \/opt\/python\/envs\/default\/lib\/python3.8\/site-packages (from importlib-metadata>=4.8.0->gym->-r RL\/requirements_colab.txt (line 9)) (3.15.0)\r\n",
      "Requirement already satisfied: six>=1.5 in \/opt\/python\/envs\/default\/lib\/python3.8\/site-packages (from python-dateutil>=2.7->matplotlib->-r RL\/requirements_colab.txt (line 5)) (1.16.0)\r\n",
      "Requirement already satisfied: charset-normalizer<4,>=2 in \/opt\/python\/envs\/default\/lib\/python3.8\/site-packages (from requests->torchvision->-r RL\/requirements_colab.txt (line 1)) (3.1.0)\r\n",
      "Requirement already satisfied: idna<4,>=2.5 in \/opt\/python\/envs\/default\/lib\/python3.8\/site-packages (from requests->torchvision->-r RL\/requirements_colab.txt (line 1)) (3.4)\r\n",
      "Requirement already satisfied: urllib3<3,>=1.21.1 in \/opt\/python\/envs\/default\/lib\/python3.8\/site-packages (from requests->torchvision->-r RL\/requirements_colab.txt (line 1)) (1.26.16)\r\n",
      "Requirement already satisfied: certifi>=2017.4.17 in \/opt\/python\/envs\/default\/lib\/python3.8\/site-packages (from requests->torchvision->-r RL\/requirements_colab.txt (line 1)) (2023.5.7)\r\n",
      "Requirement already satisfied: MarkupSafe>=2.0 in \/opt\/python\/envs\/default\/lib\/python3.8\/site-packages (from jinja2->torch==2.0.1->torchvision->-r RL\/requirements_colab.txt (line 1)) (2.1.2)\r\n",
      "Requirement already satisfied: mpmath>=0.19 in \/opt\/python\/envs\/default\/lib\/python3.8\/site-packages (from sympy->torch==2.0.1->torchvision->-r RL\/requirements_colab.txt (line 1)) (1.3.0)\r\n",
      "Building wheels for collected packages: gym\r\n",
      "  Building wheel for gym (pyproject.toml) ... \u001b[?25l-\b \b\\\b \bdone\r\n",
      "\u001b[?25h  Created wheel for gym: filename=gym-0.26.2-py3-none-any.whl size=827633 sha256=98594cfd1ee9b26c74e9ce5e9919ed553294b3a9bca1c2cee228f0204d4fa281\r\n",
      "  Stored in directory: \/home\/datalore\/.cache\/pip\/wheels\/17\/79\/65\/7afedc162d858b02708a3b8f7a6dd5b1000dcd5b0f894f7cc1\r\n",
      "Successfully built gym\r\n",
      "Installing collected packages: gym-notices, cloudpickle, gym, torchaudio\r\n",
      "Successfully installed cloudpickle-2.2.1 gym-0.26.2 gym-notices-0.0.8 torchaudio-2.0.2\r\n",
      "Note: you may need to restart the kernel to use updated packages.\n"
     ],
     "output_type":"stream"
    }
   ],
   "metadata":{
    "datalore":{
     "node_id":"EewYyo87pIs9MaMWNTzE1q",
     "type":"CODE",
     "hide_input_from_viewers":true,
     "hide_output_from_viewers":true
    }
   }
  },
  {
   "cell_type":"code",
   "source":[
    "import matplotlib.pyplot as plt\n",
    "from gym import spaces\n",
    "\n",
    "\"\"\"Environment imports\"\"\"\n",
    "from epidemic_env.env       import Env, Log\n",
    "from epidemic_env.dynamics  import ModelDynamics, Observation\n",
    "from epidemic_env.visualize import Visualize\n",
    "from epidemic_env.agent     import Agent\n",
    "\n",
    "\"\"\"Pytorch and numpy imports\"\"\"\n",
    "import numpy as np\n",
    "import torch\n",
    "from torch import nn\n",
    "import torch.optim as optim\n",
    "import torch.nn.functional as F\n",
    "\n",
    "from collections import namedtuple, deque\n",
    "import random\n",
    "import math\n",
    "from itertools import count\n",
    "import seaborn as sns\n",
    "from typing import List\n",
    "import pandas as pd\n",
    "\n",
    "%matplotlib inline\n",
    "%load_ext autoreload\n",
    "%autoreload 2\n",
    "\n",
    "DEVICE = torch.device(\"cuda\" if torch.cuda.is_available() else \"cpu\")"
   ],
   "execution_count":3,
   "outputs":[
    
   ],
   "metadata":{
    "datalore":{
     "node_id":"iokCskpsOhgE9BvS5gSinE",
     "type":"CODE",
     "hide_input_from_viewers":true,
     "hide_output_from_viewers":true
    }
   }
  },
  {
   "cell_type":"markdown",
   "source":[
    "## 1. Introduction"
   ],
   "attachments":{
    
   },
   "metadata":{
    "datalore":{
     "node_id":"QMtd8H8jXGzb2ILXh2qAcO",
     "type":"MD",
     "hide_input_from_viewers":true,
     "hide_output_from_viewers":true
    }
   }
  },
  {
   "cell_type":"markdown",
   "source":[
    "### Question 1.a) study the behavior of the model when epidemics are unmitigated\n",
    "\n",
    "Run the epidemic simulation for one episode (30 weeks), without epidemic mitigation (meaning no action is\n",
    "taken, i.e. all values in the action dictionary are set to False) and produce three plots:\n",
    "\n",
    "1. A plot of variables $s^{[w]}_{total}$; $e^{[w]}_{total}$; $i^{[w]}_{total}$; $r^{[w]}_{total}$; $d^{[w]}_{total}$ over time, where time is measured in weeks and all the\n",
    "variables share the y axis scaling.\n",
    "2. A plot of variables $i^{[w]}_{total}$ and $d^{[w]}_{total}$ over time, where time is measured in weeks and all the variables share the\n",
    "y axis scaling.\n",
    "3. A set of plots of variables $i^{[w]}_{city}$ and $d^{[w]}_{city}$ over time, where time is measured in weeks (one subplot per-city,\n",
    "variables share the y-scaling per-city).\n",
    "\n",
    "**Discuss the evolution of the variables over time.**"
   ],
   "attachments":{
    
   },
   "metadata":{
    "datalore":{
     "node_id":"AhIIcm8jQEpeYFAY6GiUzv",
     "type":"MD",
     "hide_input_from_viewers":false,
     "hide_output_from_viewers":false,
     "report_properties":{
      "rowId":"QfiUFMGot4bWe5BTEc875Q",
      "relativeY":0
     }
    }
   }
  },
  {
   "cell_type":"code",
   "source":[
    "#Load model of switzerland map\n",
    "dyn = ModelDynamics(ROOT_PATH + '\/config\/switzerland.yaml') \n",
    "dyn.draw_map()"
   ],
   "execution_count":4,
   "outputs":[
    
   ],
   "metadata":{
    "datalore":{
     "node_id":"xkyD9jyJ4H7YJs9FAHxNb5",
     "type":"CODE",
     "hide_input_from_viewers":true,
     "hide_output_from_viewers":false,
     "report_properties":{
      "rowId":"v9JFkVZ2onxFUiCySVhJAn",
      "relativeY":0
     }
    }
   }
  },
  {
   "cell_type":"code",
   "source":[
    "#Load environment \n",
    "env = Env(dyn) \n",
    "\n",
    "#Reset environement and set seed\n",
    "obs, info = env.reset(seed=0)\n",
    "\n",
    "#Define action that will be taken at each time step\n",
    "action = { # DO NOTHING\n",
    "        'confinement': False, \n",
    "        'isolation': False, \n",
    "        'hospital': False, \n",
    "        'vaccinate': False,\n",
    "    }"
   ],
   "execution_count":5,
   "outputs":[
    
   ],
   "metadata":{
    "datalore":{
     "node_id":"odFNi6yd2yfz7Ztv2Ri1Fo",
     "type":"CODE",
     "hide_input_from_viewers":true,
     "hide_output_from_viewers":true
    }
   }
  },
  {
   "cell_type":"code",
   "source":[
    "#Run simulation and save outputed dict\n",
    "log = []\n",
    "i, max_step = 0, 30\n",
    "while i < max_step:\n",
    "    obs, R, finished, info = env.step(action)\n",
    "    log.append(info) # save the information dict for logging\n",
    "    i+=1\n",
    "\n",
    "#Parse log\n",
    "total = {p:np.array([getattr(l.total,p) for l in log]) for p in dyn.parameters}\n",
    "cities = {c:{p:np.array([getattr(l.city[c],p) for l in log]) for p in dyn.parameters} for c in dyn.cities}\n",
    "actions = {a:np.array([l.action[a] for l in log]) for a in log[0].action.keys()}"
   ],
   "execution_count":6,
   "outputs":[
    
   ],
   "metadata":{
    "datalore":{
     "node_id":"H60TLupR66QJ7bg0aQIpDx",
     "type":"CODE",
     "hide_input_from_viewers":true,
     "hide_output_from_viewers":true
    }
   }
  },
  {
   "cell_type":"code",
   "source":[
    "#Plot episode using code provided in tutorial\n",
    "from matplotlib.ticker import MultipleLocator\n",
    "def plot_episode(total, cities, actions):\n",
    "  fig = plt.figure(figsize=(14,10))\n",
    "  ax_leftstate = plt.subplot2grid(shape=(9, 2), loc=(0, 0), rowspan=4)\n",
    "  ax_leftobs = plt.subplot2grid(shape=(9, 2), loc=(4, 0), rowspan=3)\n",
    "  ax_leftactions = plt.subplot2grid(shape=(9, 2), loc=(7, 0), rowspan=2)\n",
    "  ax_right = [plt.subplot2grid(shape=(9, 2), loc=(0, 1), colspan=1)]\n",
    "  ax_right += [plt.subplot2grid(shape=(9, 2), loc=(i, 1), colspan=1) for i in range(1,9)]\n",
    "  ax_right = {k:ax_right[_id] for _id,k in enumerate(cities.keys())}\n",
    "\n",
    "  [ax_leftstate.plot(y) for y in total.values()]\n",
    "  ax_leftstate.legend(total.keys())\n",
    "  ax_leftstate.set_title('Full state')\n",
    "  ax_leftstate.set_ylabel('number of people in each state')\n",
    "\n",
    "  [ax_leftobs.plot(total[y]) for y in ['infected','dead']]\n",
    "  ax_leftobs.legend(['infected','dead'])\n",
    "  ax_leftobs.set_title('Observable state')\n",
    "  ax_leftobs.set_ylabel('number of people in each state')\n",
    "\n",
    "  ax_leftactions.imshow(np.array([v for v in actions.values()]).astype(np.uint8),aspect='auto')\n",
    "  ax_leftactions.set_title('Actions')\n",
    "  ax_leftactions.set_yticks([0,1,2,3])\n",
    "  ax_leftactions.set_yticklabels(list(actions.keys()))\n",
    "  ax_leftactions.set_xlabel('time (in weeks)')\n",
    "\n",
    "  [ax.plot(cities[c]['infected']) for c, ax in ax_right.items()]\n",
    "  [ax.plot(cities[c]['dead']) for c, ax in ax_right.items()]\n",
    "  [ax.set_ylabel(c) for c, ax in ax_right.items()]\n",
    "  [ax.xaxis.set_major_locator(plt.NullLocator()) for c, ax in ax_right.items()]\n",
    "  ax_right['Zürich'].set_xlabel('time (in weeks)')\n",
    "  ax_right['Zürich'].xaxis.set_major_locator(MultipleLocator(2.000))\n",
    "\n",
    "  fig.tight_layout()\n",
    "  plt.show()"
   ],
   "execution_count":7,
   "outputs":[
    
   ],
   "metadata":{
    "datalore":{
     "node_id":"2LTKlmBNqxAoJ2U4ZyLGFR",
     "type":"CODE",
     "hide_input_from_viewers":true,
     "hide_output_from_viewers":true
    }
   }
  },
  {
   "cell_type":"code",
   "source":[
    "plot_episode(total, cities, actions)"
   ],
   "execution_count":8,
   "outputs":[
    
   ],
   "metadata":{
    "datalore":{
     "node_id":"B5qV12YnbALk6N8Ne4sZdu",
     "type":"CODE",
     "hide_input_from_viewers":true,
     "hide_output_from_viewers":false,
     "report_properties":{
      "rowId":"x5zvPbl0uwHJusVozp2ny6",
      "relativeY":0
     }
    }
   }
  },
  {
   "cell_type":"markdown",
   "source":[
    "**TODO Disscuss evolution**\n",
    "We see that when no action is taken the "
   ],
   "attachments":{
    
   },
   "metadata":{
    "datalore":{
     "node_id":"KmtHFJQnQ3OGRpZRCj0RR1",
     "type":"MD",
     "hide_input_from_viewers":true,
     "hide_output_from_viewers":true
    }
   }
  },
  {
   "cell_type":"markdown",
   "source":[
    "## 2. Professor Russo’s Policy"
   ],
   "attachments":{
    
   },
   "metadata":{
    "datalore":{
     "node_id":"TaNwT021IFfIIP6tITDntU",
     "type":"MD",
     "hide_input_from_viewers":false,
     "hide_output_from_viewers":false,
     "report_properties":{
      "rowId":"1QJr0z9ruH0mgjIYvTzTeu",
      "relativeY":0
     }
    }
   }
  },
  {
   "cell_type":"markdown",
   "source":[
    "### Question 2.a) Implement Pr. Russo’s Policy\n",
    "Implement Pr. Russo’s Policy as a python class (we recommend that you subclass the Agent abstract class\n",
    "provided with the project files, and as is demonstrated in the tutorial notebook). Run the epidemic simulation\n",
    "for one episode using Pr. Russo’s Policy to pick actions and produce four plots:\n",
    "1. A plot of variables $s^{[w]}_{total}$; $e^{[w]}_{total}$; $i^{[w]}_{total}$; $r^{[w]}_{total}$; $d^{[w]}_{total}$ over time, where time is measured in weeks and all the variables share the y axis scaling.\n",
    "2. A plot of variables $i^{[w]}_{total}$ and  $d^{[w]}_{total}$ over time, where time is measured in weeks and all the variables share the y axis scaling.\n",
    "3. A set of plots of variables $i^{[w]}_{city}$ and $d^{[w]}_{city}$ over time, where time is measured in weeks (one subplot per-city, variables share the y-scaling per-city).\n",
    "4. A plot of the action taken by the policy over time (whether the policy chooses to confine or not).\n",
    "\n",
    "**Discuss how the epidemic simulation responds to Dr. Russo’s Policy (focus on how it differs from the\n",
    "unmitigated scenario).**"
   ],
   "attachments":{
    
   },
   "metadata":{
    "datalore":{
     "node_id":"zeugRLmC61MMUTknZAOiUm",
     "type":"MD",
     "hide_input_from_viewers":false,
     "hide_output_from_viewers":false,
     "report_properties":{
      "rowId":"i2YAnM4D3vkAtpqF9ZyE3t",
      "relativeY":0
     }
    }
   }
  },
  {
   "cell_type":"code",
   "source":[
    "#Define Dr. Russo's policy agent \n",
    "class RussoAgent(Agent):\n",
    "    def __init__(self,  env:Env,\n",
    "                ):\n",
    "        \"\"\"\n",
    "        Confine country when total infected is > 20'000 for four week\n",
    "        \"\"\"\n",
    "        self.env = env\n",
    "        self.confine_at_infected = 20000 #set threshold to begin confinement\n",
    "        self.length_confinement = 4 #set length of confinement \n",
    "        self.duration_current_confinement = 0 #Remember length of current confinement\n",
    "\n",
    "    def load_model(self, savepath):\n",
    "        # This is where one would define the routine for loading a pre-trained model\n",
    "        pass\n",
    "\n",
    "    def save_model(self, savepath):\n",
    "        # This is where one would define the routine for saving the weights for a trained model\n",
    "        pass\n",
    "\n",
    "    def optimize_model(self):\n",
    "        # This is where one would define the optimization step of an RL algorithm\n",
    "        return 0\n",
    "    \n",
    "    def reset(self,seed):\n",
    "        # This should be called when the environment is reset\n",
    "        self.env.reset(seed)\n",
    "\n",
    "    def act(self, obs, info = None):\n",
    "        # takes an observation and returns an action\n",
    "        action = {'confinement': False, 'isolation': False, 'hospital': False, 'vaccinate': False} #Do nothing\n",
    "\n",
    "        if self.duration_current_confinement == self.length_confinement:\n",
    "          self.duration_current_confinement = 0 #reset duration when confinement lasted 4 weeks\n",
    "\n",
    "        if self.duration_current_confinement > 0:\n",
    "          action = {'confinement': True, 'isolation': False, 'hospital': False, 'vaccinate': False}\n",
    "          self.duration_current_confinement += 1\n",
    "\n",
    "        elif obs.total.infected[-1] > self.confine_at_infected:\n",
    "          action = {'confinement': True, 'isolation': False, 'hospital': False, 'vaccinate': False} #Confine\n",
    "          self.duration_current_confinement = 1\n",
    "\n",
    "        return action"
   ],
   "execution_count":9,
   "outputs":[
    
   ],
   "metadata":{
    "datalore":{
     "node_id":"qxziCCkulmyaiiMKXYuwqA",
     "type":"CODE",
     "hide_input_from_viewers":true,
     "hide_output_from_viewers":true
    }
   }
  },
  {
   "cell_type":"code",
   "source":[
    "#Load environment \n",
    "env = Env(dyn) \n",
    "\n",
    "#Reset environement and set seed\n",
    "obs, info = env.reset(seed=0)\n",
    "\n",
    "#Define Russo agent \n",
    "agent = RussoAgent(env)\n",
    "agent.reset(0)"
   ],
   "execution_count":10,
   "outputs":[
    
   ],
   "metadata":{
    "datalore":{
     "node_id":"2UgjjsBDAu6MVGBrcTcrLe",
     "type":"CODE",
     "hide_input_from_viewers":false,
     "hide_output_from_viewers":false,
     "report_properties":{
      "rowId":"lo31CR42cGOf2GxJp4z6yi",
      "relativeY":0
     }
    }
   }
  },
  {
   "cell_type":"code",
   "source":[
    "#Run simulation and save outputed dict\n",
    "log = []\n",
    "i, max_step = 0, 30\n",
    "while i < max_step:\n",
    "    action = agent.act(obs)\n",
    "    obs, R, finished, info = env.step(action)\n",
    "    log.append(info)\n",
    "    i+=1\n",
    "\n",
    "#Parse log\n",
    "total = {p:np.array([getattr(l.total,p) for l in log]) for p in dyn.parameters}\n",
    "cities = {c:{p:np.array([getattr(l.city[c],p) for l in log]) for p in dyn.parameters} for c in dyn.cities}\n",
    "actions = {a:np.array([l.action[a] for l in log]) for a in log[0].action.keys()}"
   ],
   "execution_count":11,
   "outputs":[
    
   ],
   "metadata":{
    "datalore":{
     "node_id":"Mr6KCRaNwHTnRXX8LUYp5H",
     "type":"CODE",
     "hide_input_from_viewers":true,
     "hide_output_from_viewers":true
    }
   }
  },
  {
   "cell_type":"code",
   "source":[
    "plot_episode(total, cities, actions)"
   ],
   "execution_count":12,
   "outputs":[
    
   ],
   "metadata":{
    "datalore":{
     "node_id":"PlygPzHc8XxARwjKAZaAZF",
     "type":"CODE",
     "hide_input_from_viewers":true,
     "hide_output_from_viewers":false,
     "report_properties":{
      "rowId":"b3m7sKR0Mk4tZak383cWse",
      "relativeY":0
     }
    }
   }
  },
  {
   "cell_type":"markdown",
   "source":[
    "**TODO discuss evolution and compare with part 1.**"
   ],
   "attachments":{
    
   },
   "metadata":{
    "datalore":{
     "node_id":"5K9H7M8b9ecYSBZFWbSjCO",
     "type":"MD",
     "hide_input_from_viewers":true,
     "hide_output_from_viewers":true
    }
   }
  },
  {
   "cell_type":"markdown",
   "source":[
    "### Question 2.b) Evaluate Pr. Russo’s Policy\n",
    "In order to be able to make meaningful conclusions about the behavior of the policy, you will need properly evaluate its behavior. To do so, running a single episode is not enough. Implement the following evaluation procedure: run 50 simulation episodes where actions are chosen from policy (in this case \u0019 will be \u0019Russo, but you should make the effort to write evaluation code in which you can easily change the policy being evaluated\n",
    "as you will be asked to evaluate each policy you train later). For each episode, save the following values:\n",
    "1. the number of total confined days $N_{confinement} = 7$\u0001 number of confined weeks ,\n",
    "2. the cumulative reward (the sum of all rewards collected during the episode) $R_{cumulative} = \\sum_{i\\in[0,30]}{R^{[i]}}$.\n",
    "3. the number of total deaths $N_{deaths} = d^{[30]}_{total}$\n",
    "total,\n",
    "\n",
    "Make sure to always be using the same sequence of random seeds (see the tutorial notebook for details on the environment seed) when evaluating different policies, in order to ensure that results are repoducible. (To\n",
    "check that they are, run the eval twice, and check that you get the same average values). Once those values are logged for each episode, plot a histogram. (Use the histogram plotting function from the tutorial notebook.)"
   ],
   "attachments":{
    
   },
   "metadata":{
    "datalore":{
     "node_id":"WLqUn70uqARPSoTNZSxW2D",
     "type":"MD",
     "hide_input_from_viewers":true,
     "hide_output_from_viewers":false,
     "report_properties":{
      "rowId":"uqOtj20MZ1GUd171oEU72z",
      "relativeY":0
     }
    }
   }
  },
  {
   "cell_type":"code",
   "source":[
    "def evaluate_policy (policy, env, nb_episode:int, seed:List[int]):\n",
    "  '''\n",
    "  Run multiple episode using the inputed policy and compute for each episode:\n",
    "  - the total number of confinement days\/weeks\n",
    "  - the cummulative reward\n",
    "  - the total number of deaths\n",
    "  parameters:\n",
    "    policy: \n",
    "      policy used to chose next action\n",
    "    env: \n",
    "      environment for the simulation\n",
    "    nb_episode: int,\n",
    "      number of episode played for the estimation\n",
    "    seeds: int, \n",
    "      random sequence of seeds of length nb_episode for reproducibility\n",
    "  '''\n",
    "\n",
    "  #Run multiple episodes\n",
    "  N_conf, cum_reward, nb_deaths = [], [], []\n",
    "  for i in range(0,nb_episode):\n",
    "    #Reset environement\/agent and set seed\n",
    "    obs, info = env.reset(seeds[i])\n",
    "    policy.reset(seeds[i])\n",
    "    \n",
    "    finished = False\n",
    "    ep_N_conf, ep_reward = 0, 0\n",
    "    while not finished:\n",
    "      action = policy.act(obs)\n",
    "      obs, R, finished, info = env.step(action)\n",
    "\n",
    "      #Log reward + confinement week\n",
    "      ep_reward += R.item()\n",
    "      ep_N_conf += int(action['confinement'] == True)\n",
    "\n",
    "    N_conf.append(ep_N_conf); cum_reward.append(ep_reward)\n",
    "    nb_deaths.append(obs.total.dead[-1])\n",
    "\n",
    "  return N_conf, cum_reward, nb_deaths"
   ],
   "execution_count":13,
   "outputs":[
    
   ],
   "metadata":{
    "datalore":{
     "node_id":"B70QWkCLzR6iLt6lTlFSZ5",
     "type":"CODE",
     "hide_input_from_viewers":true,
     "hide_output_from_viewers":true
    }
   }
  },
  {
   "cell_type":"code",
   "source":[
    "seeds = np.arange(0,50,1)\n",
    "N_conf, cum_reward, nb_deaths = evaluate_policy(agent, env, 50, seeds)\n",
    "\n",
    "print(f'Average number of confinement weeks per episode: ', np.mean(N_conf))\n",
    "print('Average cummulative reward: ', np.mean(cum_reward))\n",
    "print('Average number of deaths: ', np.mean(nb_deaths))"
   ],
   "execution_count":14,
   "outputs":[
    {
     "name":"stdout",
     "text":[
      "Average number of confinement weeks per episode:  14.32\n",
      "Average cummulative reward:  -69.96264824778075\n",
      "Average number of deaths:  58071.94\n"
     ],
     "output_type":"stream"
    }
   ],
   "metadata":{
    "datalore":{
     "node_id":"S1zAswB3JrTqO1zcH859DM",
     "type":"CODE",
     "hide_input_from_viewers":true,
     "hide_output_from_viewers":true
    }
   }
  },
  {
   "cell_type":"code",
   "source":[
    "#Define histogram plotting function from the tutorial\n",
    "def hist_avg(ax, data, title):\n",
    "    ymax = 50\n",
    "    if title == 'deaths':\n",
    "        x_range = (1000,200000)\n",
    "    elif title == 'cumulative rewards': \n",
    "        x_range = (-300,300)\n",
    "    elif 'days' in title:\n",
    "        x_range = (0,200)\n",
    "    else:\n",
    "        raise ValueError(f'{title} is not a valid title') \n",
    "    ax.set_title(title)\n",
    "    ax.set_ylim(0,ymax)\n",
    "    ax.vlines([np.mean(data)],0,ymax,color='red')\n",
    "    ax.hist(data,bins=60,range=x_range)"
   ],
   "execution_count":15,
   "outputs":[
    
   ],
   "metadata":{
    "datalore":{
     "node_id":"G5JoxrVtb9yAGWrduu52Mj",
     "type":"CODE",
     "hide_input_from_viewers":true,
     "hide_output_from_viewers":true
    }
   }
  },
  {
   "cell_type":"code",
   "source":[
    "fig, ax = plt.subplots(2,2,figsize=(18,8))\n",
    "\n",
    "hist_avg(ax[0,0], nb_deaths,'deaths')\n",
    "hist_avg(ax[0,1], cum_reward,'cumulative rewards')\n",
    "N_conf = [x*7 for x in N_conf] #Convert N_conf in days from week\n",
    "hist_avg(ax[1,0], N_conf,'confined days')\n",
    "\n",
    "fig.delaxes(ax[1,1])\n",
    "fig.tight_layout()\n",
    "plt.show()"
   ],
   "execution_count":16,
   "outputs":[
    
   ],
   "metadata":{
    "datalore":{
     "node_id":"8ZK8sjq5UUNnJaSTuuCJtP",
     "type":"CODE",
     "hide_input_from_viewers":true,
     "hide_output_from_viewers":false,
     "report_properties":{
      "rowId":"Uw95MSnfRdmxjw8Ij1Tpvt",
      "relativeY":0
     }
    }
   }
  },
  {
   "cell_type":"markdown",
   "source":[
    "## 3 A Deep Q-learning approach"
   ],
   "attachments":{
    
   },
   "metadata":{
    "datalore":{
     "node_id":"30fddKFRkaimwt4yvv9O05",
     "type":"MD",
     "hide_input_from_viewers":false,
     "hide_output_from_viewers":false,
     "report_properties":{
      "rowId":"mBLuOclnisxv3mH2cXzKWF",
      "relativeY":0
     }
    }
   }
  },
  {
   "cell_type":"markdown",
   "source":[
    "### Question 3.a) implementing Deep Q-Learning\n",
    "\n",
    "Implement and train the Deep Q-Learning agent \u0019DQN for 500 training episodes, with \u000f = 0:7. For each episode, log the cumulative reward. You will see that Deep Q-Learning training curves are quite noisy, so to better evaluate the learning process we ask you to implement the following evaluation procedure.\n",
    "\n",
    "Algorithm 2: Training\/Logging procedure for DQN:\n",
    "```python \n",
    "for episode in 500 do\n",
    "    Run an episode.\n",
    "    Log the cumulative reward Rcumulative to training trace.\n",
    "    Run a training step.\n",
    "\n",
    "    if episode % 50 = 0 or episode = 500 then\n",
    "    Run a 20 episode evaluation procedure, log their cumulative rewards.\n",
    "    Compute the average cumulative reward over the 20 evaluation episodes and log it to eval trace.\n",
    "    end\n",
    "end\n",
    "```\n",
    "\n",
    "The total training time is 500 episodes. Every 50 episodes, run a 20 episode evaluation process with \u000f = 0 (no exploration) and no learning occurring and compute an average cumulative reward across the 20 episodes. We call the plot of the training reward, the training trace and the plot of the evaluation reward the evaluation trace. For the evaluation procedure before, be careful to always use the same seed, to ensure repoducible results. \n",
    "\n",
    "Once you have successfully done so, plot the training trace and the eval trace. (We expect a plot of the rewardin y and the training episode in x both for the training trace and the eval trace). It might be more readable to plot the training trace as a scatter plot. Since training results can be hard to reproduce, we ask you to average the eval trace across three full training processes (for the training trace, you can just scatter-polt the three trainings together). Do not forget to save your trained weights (the ones which gave the best reward on evaluation) for later evaluation. \n",
    "\n",
    "Does your agent learn a meaningful policy?\n",
    "\n",
    "Record three example episodes where actions are picked by the best policy DQN you obtain. Plot one of those episodes, using the same plotting procedure as in question 2.a) and interpret the policy."
   ],
   "attachments":{
    
   },
   "metadata":{
    "datalore":{
     "node_id":"2zmimScz3SBQl0ejUtZKPM",
     "type":"MD",
     "hide_input_from_viewers":false,
     "hide_output_from_viewers":false,
     "report_properties":{
      "rowId":"97s5A5nTbIocG6XPDl6wOx",
      "relativeY":0
     }
    }
   }
  },
  {
   "cell_type":"code",
   "source":[
    "#Set seed for used libraries\n",
    "random.seed(0)\n",
    "torch.manual_seed(0)"
   ],
   "execution_count":17,
   "outputs":[
    {
     "data":{
      "text\/plain":[
       "<torch._C.Generator at 0x7fb0d66f0b50>"
      ]
     },
     "metadata":{
      
     },
     "output_type":"display_data"
    }
   ],
   "metadata":{
    "datalore":{
     "node_id":"ZWHLgyHVoou9oUbaeFrUxY",
     "type":"CODE",
     "hide_input_from_viewers":true,
     "hide_output_from_viewers":true
    }
   }
  },
  {
   "cell_type":"code",
   "source":[
    "#Define replay buffeer for decoralated batches\n",
    "Transition = namedtuple('Transition',\n",
    "                        ('state', 'action', 'next_state', 'reward'))\n",
    "\n",
    "class ReplayMemory(object):\n",
    "\n",
    "    def __init__(self, capacity):\n",
    "        self.memory = deque([], maxlen=capacity)\n",
    "\n",
    "    def push(self, *args):\n",
    "        \"\"\"Save a transition\"\"\"\n",
    "        self.memory.append(Transition(*args))\n",
    "\n",
    "    def sample(self, batch_size):\n",
    "        return random.sample(self.memory, batch_size)\n",
    "\n",
    "    def __len__(self):\n",
    "        return len(self.memory)"
   ],
   "execution_count":18,
   "outputs":[
    
   ],
   "metadata":{
    "datalore":{
     "node_id":"yEheGulYQjJ8Qc3UzloJiq",
     "type":"CODE",
     "hide_input_from_viewers":true,
     "hide_output_from_viewers":true
    }
   }
  },
  {
   "cell_type":"code",
   "source":[
    "#Define network for DQN\n",
    "class DQN(nn.Module):\n",
    "\n",
    "    def __init__(self, n_observations, n_actions):\n",
    "        super(DQN, self).__init__()\n",
    "        self.layer1 = nn.Linear(n_observations, 64)\n",
    "        self.layer2 = nn.Linear(64, 32)\n",
    "        self.layer3 = nn.Linear(32, 16)\n",
    "        self.layer4 = nn.Linear(16, n_actions)\n",
    "        \n",
    "    def forward(self, x):\n",
    "        x = F.relu(self.layer1(x))\n",
    "        x = F.relu(self.layer2(x))\n",
    "        x = F.relu(self.layer3(x))\n",
    "        return self.layer4(x)"
   ],
   "execution_count":19,
   "outputs":[
    
   ],
   "metadata":{
    "datalore":{
     "node_id":"kBFiY3NAYmcZAZSRA2hD5k",
     "type":"CODE",
     "hide_input_from_viewers":true,
     "hide_output_from_viewers":true
    }
   }
  },
  {
   "cell_type":"code",
   "source":[
    "\n",
    "#Select binary action using epsilon greedy\n",
    "def select_action_binary(policy_net, state, epsilon):\n",
    "    sample = random.random()\n",
    "\n",
    "    action = {'confinement': False, 'isolation': False, 'hospital': False, 'vaccinate': False}\n",
    "    if sample > epsilon:\n",
    "        with torch.no_grad():\n",
    "            #We pick action with the larger expected reward.\n",
    "            output = policy_net(state).argmax().view(1, 1)\n",
    "    else:\n",
    "      #Pick random action\n",
    "      output = torch.tensor([[random.randint(0, 1)]], device=DEVICE, dtype=torch.long).view(1, 1)\n",
    "      \n",
    "    action['confinement'] = bool(output)\n",
    "\n",
    "    return action, output"
   ],
   "execution_count":20,
   "outputs":[
    
   ],
   "metadata":{
    "datalore":{
     "node_id":"txbAlPqI7zuvRbR87tvrlu",
     "type":"CODE",
     "hide_input_from_viewers":true,
     "hide_output_from_viewers":true
    }
   }
  },
  {
   "cell_type":"code",
   "source":[
    "#Define training loop\n",
    "def optimize_model(policy_model, target_model, memory, optimizer, criterion, BATCH_SIZE, GAMMA):\n",
    "    if len(memory) < BATCH_SIZE:\n",
    "      return 0\n",
    "    #Get batch from memory buffer   \n",
    "    transitions = memory.sample(BATCH_SIZE)\n",
    "    batch = Transition(*zip(*transitions))\n",
    "\n",
    "    # Compute a mask of non-final states and concatenate the batch elements\n",
    "    non_final_mask = torch.tensor(tuple(map(lambda s: s is not None,\n",
    "                                          batch.next_state)), device=DEVICE, dtype=torch.bool)\n",
    "    non_final_next_states = torch.cat([s for s in batch.next_state\n",
    "                                                if s is not None])\n",
    "    state_batch = torch.cat(batch.state)\n",
    "    action_batch = torch.cat(batch.action)\n",
    "    reward_batch = torch.cat(batch.reward)\n",
    "\n",
    "    # Compute Q(s_t, a) according to policy network\n",
    "    state_action_values = policy_model(state_batch).gather(1, action_batch)\n",
    "\n",
    "    # Compute V(s_{t+1}) for all next states according to target_net.\n",
    "    next_state_values = torch.zeros(BATCH_SIZE, device=DEVICE)\n",
    "    with torch.no_grad():\n",
    "        next_state_values[non_final_mask] = target_model(non_final_next_states).max(1)[0]\n",
    "    \n",
    "    # Compute expected Q values\n",
    "    expected_state_action_values = (next_state_values * GAMMA) + reward_batch\n",
    "\n",
    "    # Compute Huber loss\n",
    "    loss = criterion(state_action_values, expected_state_action_values.unsqueeze(1))\n",
    "\n",
    "    # Optimize the model\n",
    "    optimizer.zero_grad()\n",
    "    loss.backward()\n",
    "    optimizer.step()\n",
    "\n",
    "    return loss"
   ],
   "execution_count":21,
   "outputs":[
    
   ],
   "metadata":{
    "datalore":{
     "node_id":"vtVFmgXOVnU05pRguDzJ2F",
     "type":"CODE",
     "hide_input_from_viewers":true,
     "hide_output_from_viewers":true
    }
   }
  },
  {
   "cell_type":"code",
   "source":[
    "def compute_epsilon(eps_min, eps_max, Tmax, t):\n",
    "  epsilon = (eps_max*(Tmax-t))\/Tmax\n",
    "  return max(epsilon, eps_min)\n",
    "\n",
    "def train_DQN(LR, EPS, BATCH_SIZE, GAMMA, eval_seeds, decreasing_eps=None):\n",
    "  n_actions = 2\n",
    "  state, info = env.reset()\n",
    "  n_observations = 126\n",
    "\n",
    "  if torch.cuda.device_count() > 1:\n",
    "    print(f\"Let's use {torch.cuda.device_count()} GPUs!\")\n",
    "    policy_net = nn.DataParallel(DQN(n_observations, n_actions).to(DEVICE))\n",
    "    target_net = nn.DataParallel(DQN(n_observations, n_actions).to(DEVICE))\n",
    "    target_net.load_state_dict(policy_net.state_dict())\n",
    "  else:\n",
    "    policy_net = DQN(n_observations, n_actions).to(DEVICE)\n",
    "    target_net = DQN(n_observations, n_actions).to(DEVICE)\n",
    "    target_net.load_state_dict(policy_net.state_dict())\n",
    "      \n",
    "\n",
    "  optimizer = optim.AdamW(policy_net.parameters(), lr=LR)\n",
    "  criterion = nn.SmoothL1Loss()\n",
    "\n",
    "  memory = ReplayMemory(20000)\n",
    "  \n",
    "  num_episodes = 500\n",
    "\n",
    "  training_trace, eval_trace, losses_episode = [], [], []\n",
    "  for i_episode in range(num_episodes):\n",
    "\n",
    "      #Reset environment, get initial state\n",
    "      state, info = env.reset()\n",
    "      state = (torch.tensor([x.infected + x.dead for x in state.city.values()], dtype=torch.float32, device=DEVICE).flatten().view(1,-1))**(1\/4)\n",
    "\n",
    "      total_reward, loss_episode = 0, 0\n",
    "      for t in count():\n",
    "        \n",
    "        #If decreasing eps compute epsilon\n",
    "        if decreasing_eps:\n",
    "          eps_min, eps_max, Tmax = decreasing_eps\n",
    "          EPS = compute_epsilon(eps_min, eps_max, Tmax, t)\n",
    "\n",
    "        #Get next action according to policy\n",
    "        action, output = select_action_binary(policy_net, state, EPS)\n",
    "            \n",
    "        #Take action, observe reward + next state\n",
    "        observation, reward, done, info = env.step(action)\n",
    "        total_reward += reward\n",
    "        reward = torch.tensor([reward], device=DEVICE)\n",
    "\n",
    "        if done:\n",
    "            next_state = None\n",
    "        else:\n",
    "            next_state = (torch.tensor([x.infected + x.dead for x in observation.city.values()], dtype=torch.float32, device=DEVICE).flatten().view(1,-1))**(1\/4)\n",
    "\n",
    "        # Store the transition in memory\n",
    "        memory.push(state, output, next_state, reward)\n",
    "\n",
    "        # Move to the next state\n",
    "        state = next_state\n",
    "\n",
    "        # Perform one step of the optimization (on the policy network)\n",
    "        loss = optimize_model(policy_net, target_net, memory, optimizer, criterion, BATCH_SIZE, GAMMA)\n",
    "        loss_episode += loss\n",
    "\n",
    "        #Fully update target network's weights every 5 episodes\n",
    "        if (i_episode+1) % 5 == 0:\n",
    "          target_net.load_state_dict(policy_net.state_dict())\n",
    "\n",
    "        if done:\n",
    "          training_trace.append(total_reward)\n",
    "          losses_episode.append(loss_episode)\n",
    "          break\n",
    "      \n",
    "      if (i_episode+1) % 50 == 0 or (i_episode+1) == 500:\n",
    "        #Evaluate current model on 20 episodes\n",
    "        eval_reward = []\n",
    "        for i in range(20):\n",
    "          #Reset environment, get initial state\n",
    "          state, info = env.reset(eval_seeds[i])\n",
    "          state = (torch.tensor([x.infected + x.dead for x in state.city.values()], dtype=torch.float32, device=DEVICE).flatten().view(1,-1))**(1\/4)\n",
    "\n",
    "          total_reward = 0\n",
    "          for t in count():\n",
    "            #Get next action according to policy\n",
    "            with torch.no_grad():\n",
    "              action, output = select_action_binary(target_net, state, 0)\n",
    "                \n",
    "            #Take action, observe reward + next state\n",
    "            observation, reward, done, info = env.step(action)\n",
    "            total_reward += reward.item()\n",
    "\n",
    "            state = (torch.tensor([x.infected + x.dead for x in observation.city.values()], dtype=torch.float32, device=DEVICE).flatten().view(1,-1))**(1\/4)\n",
    "\n",
    "            if done:\n",
    "              eval_reward.append(total_reward)\n",
    "              break\n",
    "          \n",
    "        eval_trace.append(np.mean(eval_reward))\n",
    "    \n",
    "  return target_net, training_trace, eval_trace, losses_episode"
   ],
   "execution_count":22,
   "outputs":[
    
   ],
   "metadata":{
    "datalore":{
     "node_id":"y9a3D5EkjUAmdTo2slqGzH",
     "type":"CODE",
     "hide_input_from_viewers":false,
     "hide_output_from_viewers":false,
     "report_properties":{
      "rowId":"zY1kCy583qyJXrlVcN0L1v",
      "relativeY":0
     }
    }
   }
  },
  {
   "cell_type":"code",
   "source":[
    "#Hyperparameters\n",
    "BATCH_SIZE = 2048\n",
    "GAMMA = 0.9\n",
    "EPS = 0.7\n",
    "LR = 5e-3\n",
    "\n",
    "#Load environment, train 3 times\n",
    "env = Env(dyn) \n",
    "eval_seeds = np.arange(0,25*3)\n",
    "\n",
    "\n",
    "\n",
    "best_reward = -10000\n",
    "training_traces, eval_traces, losses = [],[],[]\n",
    "for j in range(3):\n",
    "  target_net, training_trace, eval_trace, loss_episode = train_DQN(LR, EPS, BATCH_SIZE, GAMMA, eval_seeds[25*j: 25*(j+1)])\n",
    "  training_traces.append(training_trace); eval_traces.append(eval_trace); losses.append(loss_episode)\n",
    "\n",
    "  if eval_trace[-1] > best_reward:\n",
    "    best_reward = eval_trace[-1]\n",
    "\n",
    "    torch.save(target_net.state_dict(), ROOT_PATH + \"\/best_DQN_3_1\")"
   ],
   "execution_count":23,
   "outputs":[
    
   ],
   "metadata":{
    "datalore":{
     "node_id":"V0Peqb3zjP1wD5GPbNZjTd",
     "type":"CODE",
     "hide_input_from_viewers":false,
     "hide_output_from_viewers":false,
     "report_properties":{
      "rowId":"VJFbWeVawHWDVkDew3rV2W",
      "relativeY":0
     }
    }
   }
  },
  {
   "cell_type":"code",
   "source":[
    "import matplotlib.pyplot as plt\n",
    "import numpy as np\n",
    "\n",
    "colors = ['b', 'g', 'r', 'c', 'm', 'y', 'k'] # Add more if you have more than 7 traces\n",
    "\n",
    "for i, x in enumerate(training_traces):\n",
    "    values = [e.item() for e in x]\n",
    "    plt.scatter(np.arange(0, len(values)), values, color=colors[i % len(colors)])\n",
    "\n",
    "\n",
    "\n",
    "plt.title('Training trace for three training procedures')\n",
    "plt.show()\n",
    "\n",
    "test = np.mean(eval_traces, axis=0)\n",
    "plt.plot(np.arange(0,len(test)), test)\n",
    "plt.title('Cummulative reward during evaluation')\n",
    "plt.show()"
   ],
   "execution_count":24,
   "outputs":[
    
   ],
   "metadata":{
    "datalore":{
     "node_id":"evnLcFlxm3fZXhDTqojM7E",
     "type":"CODE",
     "hide_input_from_viewers":true,
     "hide_output_from_viewers":false,
     "report_properties":{
      "rowId":"LATxeloV1eaMk4S0RUo6vD",
      "relativeY":0
     }
    }
   }
  },
  {
   "cell_type":"code",
   "source":[
    "losses = [x.detach().item() for x in losses[0] if x != 0]\n",
    "plt.plot(losses)\n",
    "plt.title('Episode loss during training')\n",
    "plt.show()"
   ],
   "execution_count":25,
   "outputs":[
    
   ],
   "metadata":{
    "datalore":{
     "node_id":"buhN4n82RPcToP8r0J5Nqp",
     "type":"CODE",
     "hide_input_from_viewers":true,
     "hide_output_from_viewers":false,
     "report_properties":{
      "rowId":"C052ZUVcdAx9Xyi8MfT7NL",
      "relativeY":0
     }
    }
   }
  },
  {
   "cell_type":"code",
   "source":[
    "from collections import OrderedDict\n",
    "#Define DQN agent \n",
    "class first_binary_DQNagent(Agent):\n",
    "    def __init__(self,  env:Env,\n",
    "                ):\n",
    "        \"\"\"\n",
    "        DQN agent with binary action space (confinment or not)\n",
    "        \"\"\"\n",
    "        self.env = env\n",
    "        if torch.cuda.device_count() > 1:\n",
    "            self.model = nn.DataParallel(DQN(126, 2).to(DEVICE))\n",
    "        else:\n",
    "            self.model = DQN(126, 2).to(DEVICE)\n",
    "\n",
    "    def load_model_no_parallel(self, savepath):\n",
    "        # This is where one would define the routine for loading a pre-trained model\n",
    "        self.model.load_state_dict(torch.load(savepath, map_location=torch.device(DEVICE)))\n",
    "\n",
    "    def load_model(self, savepath):\n",
    "    # Load the state dict from the file\n",
    "        state_dict = torch.load(savepath,map_location=torch.device(DEVICE))\n",
    "\n",
    "    # Create a new state dict in which the keys don't have the 'module.' prefix\n",
    "        new_state_dict = OrderedDict()\n",
    "        for k, v in state_dict.items():\n",
    "            name = k[7:] # remove `module.`\n",
    "            new_state_dict[name] = v\n",
    "\n",
    "        # Load the weights\n",
    "        self.model.load_state_dict(new_state_dict)\n",
    "\n",
    "    def save_model(self, savepath):\n",
    "        # This is where one would define the routine for saving the weights for a trained model\n",
    "        torch.save(self.model.state_dict(), ROOT_PATH + \"\/DQN_3_1\")\n",
    "\n",
    "    def optimize_model(self):\n",
    "        # This is where one would define the optimization step of an RL algorithm\n",
    "        return 0\n",
    "    \n",
    "    def reset(self,seed):\n",
    "        # This should be called when the environment is reset\n",
    "        self.env.reset(seed)\n",
    "\n",
    "    def act(self, obs):\n",
    "        # takes an observation and returns an action\n",
    "        with torch.no_grad():\n",
    "          #We pick action with the larger expected reward.\n",
    "          state = (torch.tensor([x.infected + x.dead for x in obs.city.values()], dtype=torch.float32, device=DEVICE).flatten().view(1,-1))**(1\/4)\n",
    "          action = {'confinement': False, 'isolation': False, 'hospital': False, 'vaccinate': False}\n",
    "          action['confinement'] = bool(self.model(state).argmax().view(1, 1))\n",
    "\n",
    "        return action"
   ],
   "execution_count":28,
   "outputs":[
    
   ],
   "metadata":{
    "datalore":{
     "node_id":"yla8vWuAHCvXcA97qvcxcS",
     "type":"CODE",
     "hide_input_from_viewers":true,
     "hide_output_from_viewers":true
    }
   }
  },
  {
   "cell_type":"code",
   "source":[
    "simulations = {}\n",
    "for k in range(3):\n",
    "    env = Env(dyn) \n",
    "\n",
    "    #Reset environement and set seed\n",
    "    obs, info = env.reset(seed=k)\n",
    "\n",
    "    #Define Russo agent \n",
    "    agent = first_binary_DQNagent(env)\n",
    "    agent.load_model_no_parallel(ROOT_PATH +  '\/best_DQN_3_1')\n",
    "    agent.reset(0)\n",
    "\n",
    "\n",
    "    log=[]\n",
    "    Total = None\n",
    "    Cities = None\n",
    "    Actions = None\n",
    "\n",
    "    i, max_step = 0, 30\n",
    "    while i < max_step:\n",
    "        action = agent.act(obs)\n",
    "        obs, R, finished, info = env.step(action)\n",
    "        log.append(info)\n",
    "        i+=1\n",
    "\n",
    "    #Parse log\n",
    "    Total = {p:np.array([getattr(l.total,p) for l in log]) for p in dyn.parameters}\n",
    "    Cities = {c:{p:np.array([getattr(l.city[c],p) for l in log]) for p in dyn.parameters} for c in dyn.cities}\n",
    "    Actions = {a:np.array([l.action[a] for l in log]) for a in log[0].action.keys()}\n",
    "    simulations[k] = {\"total\": Total, \"cities\" : Cities, \"actions\" : Actions }\n"
   ],
   "execution_count":27,
   "outputs":[
    
   ],
   "metadata":{
    "datalore":{
     "node_id":"5lCjsh6V037Lwutqxdgq7I",
     "type":"CODE",
     "hide_input_from_viewers":true,
     "hide_output_from_viewers":true
    }
   }
  },
  {
   "cell_type":"code",
   "source":[
    "plot_episode(simulations[0][\"total\"], simulations[0][\"cities\"], simulations[0][\"actions\"])"
   ],
   "execution_count":29,
   "outputs":[
    
   ],
   "metadata":{
    "datalore":{
     "node_id":"MV2cnNPK1XDx6jmu9wzJMX",
     "type":"CODE",
     "hide_input_from_viewers":true,
     "hide_output_from_viewers":false,
     "report_properties":{
      "rowId":"GO8hpE5EfFYByCdHLMQhLO",
      "relativeY":0
     }
    }
   }
  },
  {
   "cell_type":"code",
   "source":[
    "#Load environment \n",
    "env = Env(dyn) \n",
    "\n",
    "#Reset environement and set seed\n",
    "obs, info = env.reset(seed=0)\n",
    "\n",
    "#Define Russo agent \n",
    "agent = first_binary_DQNagent(env)\n",
    "agent.load_model_no_parallel(ROOT_PATH +  '\/best_DQN_3_1')\n",
    "agent.reset(0)\n",
    "\n",
    "seeds = np.arange(0,50,1)\n",
    "N_conf, cum_reward, nb_deaths = evaluate_policy(agent, env, 50, seeds)\n",
    "\n",
    "print(f'Average number of confinement weeks per episode: ', np.mean(N_conf))\n",
    "print('Average cummulative reward: ', np.mean(cum_reward))\n",
    "print('Average number of deaths: ', np.mean(nb_deaths))"
   ],
   "execution_count":30,
   "outputs":[
    {
     "name":"stdout",
     "text":[
      "Average number of confinement weeks per episode:  24.08\n",
      "Average cummulative reward:  35.279600121825936\n",
      "Average number of deaths:  1912.74\n"
     ],
     "output_type":"stream"
    }
   ],
   "metadata":{
    "datalore":{
     "node_id":"ktW5tr0l0jf44TsWFWV6uK",
     "type":"CODE",
     "hide_input_from_viewers":true,
     "hide_output_from_viewers":true
    }
   }
  },
  {
   "cell_type":"code",
   "source":[
    "fig, ax = plt.subplots(2,2,figsize=(18,8))\n",
    "\n",
    "hist_avg(ax[0,0], nb_deaths,'deaths')\n",
    "\n",
    "hist_avg(ax[0,1], cum_reward,'cumulative rewards')\n",
    "\n",
    "N_conf = [x*7 for x in N_conf] #Convert N_conf in days from week\n",
    "hist_avg(ax[1,0], N_conf,'confined days')\n",
    "\n",
    "fig.delaxes(ax[1,1])\n",
    "fig.tight_layout()\n",
    "plt.show()"
   ],
   "execution_count":31,
   "outputs":[
    
   ],
   "metadata":{
    "datalore":{
     "node_id":"p09ZiM0pSmSJMa685AM1ED",
     "type":"CODE",
     "hide_input_from_viewers":true,
     "hide_output_from_viewers":true
    }
   }
  },
  {
   "cell_type":"markdown",
   "source":[
    "### Question 3.b) decreasing exploration\n",
    "Implement and train Deep Q-Learning agent for 500 training episodes with decreasing $\\epsilon$\u000f:\n",
    "\u000f$$ \\epsilon(t) = max(\\frac{ϵ_0(T_{max} - t)}{T_{max}}, ϵ_{min}) $$\n",
    "\u0013\n",
    "where t is the episode number, Tmax = 500, \u000f0 = 0:7 and \u000fmin = 0:2.\n",
    "\n",
    "Plot the evaluation and training traces on a shared plot with the traces from question 3.b), (we ask you to average across 3 training runs). \n",
    "\n",
    "Compare and discuss the results between questions 3.a) and 3.b). Which policy gets the best results and why?"
   ],
   "attachments":{
    
   },
   "metadata":{
    "datalore":{
     "node_id":"mSjebXtZDopUWsd2KqRU7q",
     "type":"MD",
     "hide_input_from_viewers":true,
     "hide_output_from_viewers":false,
     "report_properties":{
      "rowId":"DARjK9Xyky9n0HCmQowfgE",
      "relativeY":0
     }
    }
   }
  },
  {
   "cell_type":"code",
   "source":[
    "def compute_epsilon(eps_min, eps_max, Tmax, t):\n",
    "  epsilon = (eps_max*(Tmax-t))\/Tmax\n",
    "  return max(epsilon, eps_min)"
   ],
   "execution_count":32,
   "outputs":[
    
   ],
   "metadata":{
    "datalore":{
     "node_id":"I9jwFwCLBx604Dk3uWNKDY",
     "type":"CODE",
     "hide_input_from_viewers":true,
     "hide_output_from_viewers":true
    }
   }
  },
  {
   "cell_type":"code",
   "source":[
    "#Hyperparameters\n",
    "BATCH_SIZE = 2048\n",
    "GAMMA = 0.9\n",
    "EPS_min, EPS_max = 0.2, 0.7\n",
    "LR = 5e-3\n",
    "Tmax = 500\n",
    "\n",
    "#Load environment, train 3 times\n",
    "env = Env(dyn) \n",
    "eval_seeds = np.arange(0,25*3)\n",
    "\n",
    "\n",
    "best_reward = -10000\n",
    "training_traces, eval_traces, losses = [],[],[]\n",
    "for j in range(3):\n",
    "  target_net, training_trace, eval_trace, loss_episode = train_DQN(LR, 0, BATCH_SIZE, GAMMA, eval_seeds[25*j: 25*(j+1)], [EPS_min, EPS_max, Tmax])\n",
    "  training_traces.append(training_trace); eval_traces.append(eval_trace); losses.append(loss_episode)\n",
    "\n",
    "  if eval_trace[-1] > best_reward:\n",
    "    best_reward = eval_trace[-1]\n",
    "\n",
    "    torch.save(target_net.state_dict(), ROOT_PATH + \"\/best_DQN_3_2\")"
   ],
   "execution_count":33,
   "outputs":[
    
   ],
   "metadata":{
    "datalore":{
     "node_id":"JYJnHxJCQuNkPXnH1RiaB4",
     "type":"CODE",
     "hide_input_from_viewers":true,
     "hide_output_from_viewers":true
    }
   }
  },
  {
   "cell_type":"code",
   "source":[
    "colors = ['b', 'g', 'r', 'c', 'm', 'y', 'k'] \n",
    "\n",
    "for i, x in enumerate(training_traces):\n",
    "    values = [e.item() for e in x]\n",
    "    plt.scatter(np.arange(0, len(values)), values, color=colors[i % len(colors)])\n",
    "    \n",
    "plt.title('Training trace for three training procedures')\n",
    "plt.show()\n",
    "\n",
    "\n",
    "\n",
    "test = np.mean(eval_traces, axis=0)\n",
    "plt.plot(np.arange(0,len(test)), test)\n",
    "plt.title('Cummulative reward during evaluation')\n",
    "plt.show()"
   ],
   "execution_count":34,
   "outputs":[
    
   ],
   "metadata":{
    "datalore":{
     "node_id":"ChqGMez2VEu98hCE3rXe92",
     "type":"CODE",
     "hide_input_from_viewers":true,
     "hide_output_from_viewers":false,
     "report_properties":{
      "rowId":"pIoqOAsQLoe8u9SB56nVWR",
      "relativeY":0
     }
    }
   }
  },
  {
   "cell_type":"code",
   "source":[
    "losses = [x.detach().item() for x in losses[0] if x != 0]\n",
    "plt.plot(losses)\n",
    "plt.title('Episode loss during training')\n",
    "plt.show()"
   ],
   "execution_count":35,
   "outputs":[
    
   ],
   "metadata":{
    "datalore":{
     "node_id":"01NnOELtfoWul6Yv3EytC2",
     "type":"CODE",
     "hide_input_from_viewers":true,
     "hide_output_from_viewers":false,
     "report_properties":{
      "rowId":"eAyURqsUXXvr5BXuEM6OZf",
      "relativeY":0
     }
    }
   }
  },
  {
   "cell_type":"markdown",
   "source":[
    "### Question 3.c) evaluate the best performing policy against Pr. Russo’s policy\n",
    "Run the best performing policy \n",
    "DQN through the evaluation code that you wrote to evaluate Pr. Russo’s policy\n",
    "in question 2.b), generate the same histogram plots and compare the results. Did the reinforcement\n",
    "learning policy outperform Pr. Russo’s, if so in what sense?"
   ],
   "attachments":{
    
   },
   "metadata":{
    "datalore":{
     "node_id":"w7orXfSW1HWAdt002SbXb7",
     "type":"MD",
     "hide_input_from_viewers":true,
     "hide_output_from_viewers":false,
     "report_properties":{
      "rowId":"NPL2AAc811p4fFkEejyx3q",
      "relativeY":0
     }
    }
   }
  },
  {
   "cell_type":"code",
   "source":[
    "#Define DQN agent \n",
    "class binary_DQNagent(Agent):\n",
    "    def __init__(self,  env:Env,\n",
    "                ):\n",
    "        \"\"\"\n",
    "        DQN agent with binary action space (confinment or not)\n",
    "        \"\"\"\n",
    "        self.env = env\n",
    "        self.model = DQN(126, 2).to(DEVICE)\n",
    "\n",
    "    def load_model(self, savepath):\n",
    "        # This is where one would define the routine for loading a pre-trained model\n",
    "        self.model.load_state_dict(torch.load(savepath))\n",
    "\n",
    "    def save_model(self, savepath):\n",
    "        # This is where one would define the routine for saving the weights for a trained model\n",
    "        torch.save(self.model.state_dict(), ROOT_PATH + \"\/DQN_3_2\")\n",
    "\n",
    "    def optimize_model(self):\n",
    "        # This is where one would define the optimization step of an RL algorithm\n",
    "        return 0\n",
    "    \n",
    "    def reset(self,seed):\n",
    "        # This should be called when the environment is reset\n",
    "        self.env.reset(seed)\n",
    "\n",
    "    def act(self, obs, info_ =None):\n",
    "        # takes an observation and returns an action\n",
    "        with torch.no_grad():\n",
    "          #We pick action with the larger expected reward.\n",
    "          state = (torch.tensor([x.infected + x.dead for x in obs.city.values()], dtype=torch.float32, device=DEVICE).flatten().view(1,-1))**(1\/4)\n",
    "          action = {'confinement': False, 'isolation': False, 'hospital': False, 'vaccinate': False}\n",
    "          action['confinement'] = bool(self.model(state).argmax().view(1, 1))\n",
    "\n",
    "        return action"
   ],
   "execution_count":37,
   "outputs":[
    
   ],
   "metadata":{
    "datalore":{
     "node_id":"TxvrjMkowUFsYWmiFWu5d0",
     "type":"CODE",
     "hide_input_from_viewers":true,
     "hide_output_from_viewers":true
    }
   }
  },
  {
   "cell_type":"code",
   "source":[
    "simulations = {}\n",
    "for k in range(3):\n",
    "    env = Env(dyn) \n",
    "\n",
    "    #Reset environement and set seed\n",
    "    obs, info = env.reset(seed=k)\n",
    "\n",
    "    #Define Russo agent \n",
    "    agent = binary_DQNagent(env)\n",
    "    agent.load_model(ROOT_PATH +  '\/best_DQN_3_2')\n",
    "    agent.reset(0)\n",
    "\n",
    "\n",
    "    log=[]\n",
    "    Total = None\n",
    "    Cities = None\n",
    "    Actions = None\n",
    "\n",
    "    i, max_step = 0, 30\n",
    "    while i < max_step:\n",
    "        action = agent.act(obs)\n",
    "        obs, R, finished, info = env.step(action)\n",
    "        log.append(info)\n",
    "        i+=1\n",
    "\n",
    "    #Parse log\n",
    "    Total = {p:np.array([getattr(l.total,p) for l in log]) for p in dyn.parameters}\n",
    "    Cities = {c:{p:np.array([getattr(l.city[c],p) for l in log]) for p in dyn.parameters} for c in dyn.cities}\n",
    "    Actions = {a:np.array([l.action[a] for l in log]) for a in log[0].action.keys()}\n",
    "    simulations[k] = {\"total\": Total, \"cities\" : Cities, \"actions\" : Actions }"
   ],
   "execution_count":38,
   "outputs":[
    
   ],
   "metadata":{
    "datalore":{
     "node_id":"xRojPS2GH4YVxh9959CFoN",
     "type":"CODE",
     "hide_input_from_viewers":true,
     "hide_output_from_viewers":true
    }
   }
  },
  {
   "cell_type":"code",
   "source":[
    "plot_episode(simulations[0][\"total\"], simulations[0][\"cities\"], simulations[0][\"actions\"])"
   ],
   "execution_count":39,
   "outputs":[
    
   ],
   "metadata":{
    "datalore":{
     "node_id":"VAwuqtBs93IBULShX6mTRH",
     "type":"CODE",
     "hide_input_from_viewers":true,
     "hide_output_from_viewers":false,
     "report_properties":{
      "rowId":"yFviVQdGbB37jsYAUDA9YG",
      "relativeY":0
     }
    }
   }
  },
  {
   "cell_type":"code",
   "source":[
    "#Load environment \n",
    "env = Env(dyn) \n",
    "\n",
    "#Reset environement and set seed\n",
    "obs, info = env.reset(seed=0)\n",
    "\n",
    "#Define Russo agent \n",
    "agent = binary_DQNagent(env)\n",
    "agent.load_model(ROOT_PATH +  '\/best_DQN_3_2')\n",
    "agent.reset(0)\n",
    "\n",
    "seeds = np.arange(0,50,1)\n",
    "N_conf, cum_reward, nb_deaths = evaluate_policy(agent, env, 50, seeds)\n",
    "\n",
    "print(f'Average number of confinement weeks per episode: ', np.mean(N_conf))\n",
    "print('Average cummulative reward: ', np.mean(cum_reward))\n",
    "print('Average number of deaths: ', np.mean(nb_deaths))"
   ],
   "execution_count":40,
   "outputs":[
    {
     "name":"stdout",
     "text":[
      "Average number of confinement weeks per episode:  22.24\n",
      "Average cummulative reward:  33.790046245753764\n",
      "Average number of deaths:  3838.68\n"
     ],
     "output_type":"stream"
    }
   ],
   "metadata":{
    "datalore":{
     "node_id":"m18Q14mTuIZEos88kWTsTG",
     "type":"CODE",
     "hide_input_from_viewers":true,
     "hide_output_from_viewers":true
    }
   }
  },
  {
   "cell_type":"code",
   "source":[
    "fig, ax = plt.subplots(2,2,figsize=(18,8))\n",
    "\n",
    "hist_avg(ax[0,0], nb_deaths,'deaths')\n",
    "\n",
    "hist_avg(ax[0,1], cum_reward,'cumulative rewards')\n",
    "\n",
    "N_conf = [x*7 for x in N_conf] #Convert N_conf in days from week\n",
    "hist_avg(ax[1,0], N_conf,'confined days')\n",
    "\n",
    "fig.delaxes(ax[1,1])\n",
    "fig.tight_layout()\n",
    "plt.show()"
   ],
   "execution_count":41,
   "outputs":[
    
   ],
   "metadata":{
    "datalore":{
     "node_id":"I7cQuYOGd6jXovBOlYVk0k",
     "type":"CODE",
     "hide_input_from_viewers":true,
     "hide_output_from_viewers":false,
     "report_properties":{
      "rowId":"2mbox357lBTE3hHUz0C7d4",
      "relativeY":0
     }
    }
   }
  },
  {
   "cell_type":"markdown",
   "source":[
    "**TODO: COMPARE WITH DR:RUSSO POLICY. Outperforms??**\n",
    "\n",
    "Better reward -> more confinement, a lot less deaths"
   ],
   "attachments":{
    
   },
   "metadata":{
    "datalore":{
     "node_id":"TE43sJpjjGyFmvVhbGs9sg",
     "type":"MD",
     "hide_input_from_viewers":true,
     "hide_output_from_viewers":true
    }
   }
  },
  {
   "cell_type":"markdown",
   "source":[
    "## 4. Dealing with a more complex action Space\n",
    "## 4.1 Toggle-action-space multi-action agent"
   ],
   "attachments":{
    
   },
   "metadata":{
    "datalore":{
     "node_id":"IM6lxJtcVzMPCNyVWi6FTS",
     "type":"MD",
     "hide_input_from_viewers":false,
     "hide_output_from_viewers":false,
     "report_properties":{
      "rowId":"wh3IdVdFX55lQjjDwmMbxh",
      "relativeY":0
     }
    }
   }
  },
  {
   "cell_type":"code",
   "source":[
    "# Include last action state in state representation\n",
    "def get_state(observation, last_action_state):\n",
    "    state = (torch.tensor([x.infected + x.dead for x in observation.city.values()], dtype=torch.float32, device=DEVICE).flatten().view(1,-1))**(1\/4)\n",
    "    last_action_state_tensor = torch.tensor(list(last_action_state.values()), dtype=torch.float32, device=DEVICE).view(1,-1)\n",
    "    return torch.cat((state, last_action_state_tensor), dim=1)\n",
    "\n",
    "#Select toggle multi-action using epsilon greedy\n",
    "def select_toogle_action(policy_net, state, last_action, epsilon):\n",
    "    action = last_action.copy()\n",
    "    sample = random.random()\n",
    "\n",
    "    if sample > epsilon:\n",
    "        with torch.no_grad():\n",
    "            #We pick action with the larger expected reward.\n",
    "            output = policy_net(state).argmax().view(1, 1)\n",
    "    else:\n",
    "        #Pick random action\n",
    "        output = torch.tensor([[random.randint(0, 4)]], device=DEVICE, dtype=torch.long)\n",
    "\n",
    "    #Toggle action\n",
    "    if int(output) != 0:\n",
    "        key_toggle = list(action.keys())[(int(output)-1)]\n",
    "        action[key_toggle] = not action[key_toggle]\n",
    "\n",
    "    return action, output"
   ],
   "execution_count":42,
   "outputs":[
    
   ],
   "metadata":{
    "datalore":{
     "node_id":"CANwcXERaOPIZRTgpOczxn",
     "type":"CODE",
     "hide_input_from_viewers":true,
     "hide_output_from_viewers":true
    }
   }
  },
  {
   "cell_type":"code",
   "source":[
    "def train_DQN(LR, decreasing_eps, BATCH_SIZE, GAMMA, eval_seeds):\n",
    "    n_actions = 5\n",
    "    state, info = env.reset()\n",
    "    n_observations = 126 + len(info.action)  # add the length of action state to the observation space\n",
    "\n",
    "    policy_net = DQN(n_observations, n_actions).to(DEVICE)\n",
    "    target_net = DQN(n_observations, n_actions).to(DEVICE)\n",
    "    target_net.load_state_dict(policy_net.state_dict())\n",
    "\n",
    "    optimizer = optim.AdamW(policy_net.parameters(), lr=LR)\n",
    "    criterion = nn.SmoothL1Loss()\n",
    "\n",
    "    memory = ReplayMemory(20000)\n",
    "\n",
    "    num_episodes = 500\n",
    "\n",
    "    training_trace, eval_trace, losses_episode = [], [], []\n",
    "    for i_episode in range(num_episodes):\n",
    "\n",
    "        # Reset environment, get initial state\n",
    "        state, info = env.reset()\n",
    "        state = get_state(state, info.action)  # initial state\n",
    "\n",
    "        total_reward, loss_episode = 0, 0\n",
    "        for t in count():\n",
    "\n",
    "            # Compute epsilon\n",
    "            eps_min, eps_max, Tmax = decreasing_eps\n",
    "            EPS = compute_epsilon(eps_min, eps_max, Tmax, t)\n",
    "\n",
    "            # Get next action according to policy\n",
    "            action, output = select_toogle_action(policy_net, state, info.action, EPS)\n",
    "\n",
    "            # Take action, observe reward + next state\n",
    "            observation, reward, done, info = env.step(action)\n",
    "            total_reward += reward\n",
    "            reward = torch.tensor([reward], device=DEVICE)\n",
    "\n",
    "            if done:\n",
    "                next_state = None\n",
    "            else:\n",
    "                next_state = get_state(observation, action)  # get state after action\n",
    "\n",
    "            # Store the transition in memory\n",
    "            memory.push(state, output, next_state, reward)\n",
    "\n",
    "            # Move to the next state\n",
    "            state = next_state\n",
    "\n",
    "            # Perform one step of the optimization (on the policy network)\n",
    "            loss = optimize_model(policy_net, target_net, memory, optimizer, criterion, BATCH_SIZE, GAMMA)\n",
    "            loss_episode += loss\n",
    "\n",
    "            # Fully update target network's weights every 5 episodes\n",
    "            if (i_episode+1) % 5 == 0:\n",
    "                target_net.load_state_dict(policy_net.state_dict())\n",
    "\n",
    "            if done:\n",
    "                training_trace.append(total_reward)\n",
    "                losses_episode.append(loss_episode)\n",
    "                break\n",
    "\n",
    "        if (i_episode+1) % 50 == 0 or (i_episode+1) == 500:\n",
    "            # Evaluate current model on 20 episodes\n",
    "            eval_reward = []\n",
    "            for i in range(20):\n",
    "                # Reset environment, get initial state\n",
    "                state, info = env.reset(eval_seeds[i])\n",
    "                state = get_state(state, info.action)  # include action states in observation\n",
    "\n",
    "                total_reward = 0\n",
    "                for t in count():\n",
    "                    # Get next action according to policy\n",
    "                    with torch.no_grad():\n",
    "                        action, output = select_toogle_action(policy_net, state, info.action, 0)\n",
    "\n",
    "                    # Take action, observe reward + next state\n",
    "                    observation, reward, done, info = env.step(action)\n",
    "                    total_reward += reward.item()\n",
    "\n",
    "                    state = get_state(observation, action)  # include action states in observation\n",
    "\n",
    "                    if done:\n",
    "                        eval_reward.append(total_reward)\n",
    "                        break\n",
    "\n",
    "            eval_trace.append(np.mean(eval_reward))\n",
    "\n",
    "    return target_net, training_trace, eval_trace, losses_episode"
   ],
   "execution_count":43,
   "outputs":[
    
   ],
   "metadata":{
    "datalore":{
     "node_id":"UzvbSA4RT6MIaAdvQbD9mL",
     "type":"CODE",
     "hide_input_from_viewers":true,
     "hide_output_from_viewers":true
    }
   }
  },
  {
   "cell_type":"code",
   "source":[
    "#Hyperparameters\n",
    "BATCH_SIZE = 2048\n",
    "GAMMA = 0.9\n",
    "EPS_min, EPS_max = 0.2, 0.7\n",
    "LR = 5e-5\n",
    "Tmax = 500\n",
    "\n",
    "\n",
    "#Load environment, train 3 times\n",
    "env = Env(dyn) \n",
    "env.reset(0)\n",
    "eval_seeds = np.arange(0,25*3)\n",
    "\n",
    "\n",
    "best_reward = -10000\n",
    "training_traces, eval_traces, losses = [],[],[]\n",
    "for j in range(3):\n",
    "  target_net, training_trace, eval_trace, loss_episode = train_DQN(LR, [EPS_min, EPS_max, Tmax], BATCH_SIZE, GAMMA, eval_seeds[25*j: 25*(j+1)])\n",
    "  training_traces.append(training_trace); eval_traces.append(eval_trace); losses.append(loss_episode)\n",
    "\n",
    "  if eval_trace[-1] > best_reward:\n",
    "    best_reward = eval_trace[-1]\n",
    "\n",
    "    torch.save(target_net.state_dict(), ROOT_PATH + \"\/best_DQN_4_1\")"
   ],
   "execution_count":44,
   "outputs":[
    
   ],
   "metadata":{
    "datalore":{
     "node_id":"QVpASvM53uN4hNpPJuAyfT",
     "type":"CODE",
     "hide_input_from_viewers":true,
     "hide_output_from_viewers":true
    }
   }
  },
  {
   "cell_type":"code",
   "source":[
    "colors = ['b', 'g', 'r', 'c', 'm', 'y', 'k'] \n",
    "\n",
    "for i, x in enumerate(training_traces):\n",
    "    values = [e.item() for e in x]\n",
    "    plt.scatter(np.arange(0, len(values)), values, color=colors[i % len(colors)])\n",
    "    \n",
    "plt.title('Training trace for three training procedures')\n",
    "plt.show()\n",
    "\n",
    "test = np.mean(eval_traces, axis=0)\n",
    "plt.plot(np.arange(0,len(test)), test)\n",
    "plt.title('Cummulative reward during evaluation')\n",
    "plt.show()"
   ],
   "execution_count":45,
   "outputs":[
    
   ],
   "metadata":{
    "datalore":{
     "node_id":"QkTkMD4zt2X7JIbthGcFOY",
     "type":"CODE",
     "hide_input_from_viewers":true,
     "hide_output_from_viewers":false,
     "report_properties":{
      "rowId":"8UpjvRHJVI31vESf08w9EU",
      "relativeY":0
     }
    }
   }
  },
  {
   "cell_type":"code",
   "source":[
    "losses = [x.detach().item() for x in losses[0] if x != 0]\n",
    "plt.plot(losses)\n",
    "plt.title('Episode loss during training')\n",
    "plt.show()"
   ],
   "execution_count":46,
   "outputs":[
    
   ],
   "metadata":{
    "datalore":{
     "node_id":"0ZajGKJEq9QCItC1cRZmkt",
     "type":"CODE",
     "hide_input_from_viewers":true,
     "hide_output_from_viewers":false,
     "report_properties":{
      "rowId":"2dn2Z5p6hLgaEz4ueXZq0c",
      "relativeY":0
     }
    }
   }
  },
  {
   "cell_type":"code",
   "source":[
    "#Define DQN agent \n",
    "class toogle_DQNagent(Agent):\n",
    "    def __init__(self,  env:Env,\n",
    "                ):\n",
    "        \"\"\"\n",
    "        DQN agent with toogle action space \n",
    "        \"\"\"\n",
    "        self.env = env\n",
    "        self.model = DQN(130, 5).to(DEVICE)\n",
    "\n",
    "    def load_model(self, savepath):\n",
    "        # This is where one would define the routine for loading a pre-trained model\n",
    "        self.model.load_state_dict(torch.load(savepath))\n",
    "\n",
    "    def save_model(self, savepath):\n",
    "        # This is where one would define the routine for saving the weights for a trained model\n",
    "        torch.save(self.model.state_dict(), savepath)\n",
    "\n",
    "    def optimize_model(self):\n",
    "        # This is where one would define the optimization step of an RL algorithm\n",
    "        return 0\n",
    "    \n",
    "    def reset(self,seed):\n",
    "        # This should be called when the environment is reset\n",
    "        self.env.reset(seed)\n",
    "\n",
    "    def act(self, state, info_):\n",
    "        with torch.no_grad():\n",
    "            # Get the state tensor\n",
    "            state_tensor = get_state(state, info_.action)\n",
    "\n",
    "            # Get the action from the policy net\n",
    "            output = self.model(state_tensor).argmax().view(1, 1)\n",
    "\n",
    "            action = info_.action.copy()\n",
    "\n",
    "            # Toggle action\n",
    "            if int(output) != 0:\n",
    "                key_toggle = list(action.keys())[(int(output)-1)]\n",
    "                action[key_toggle] = not action[key_toggle]\n",
    "\n",
    "        return action"
   ],
   "execution_count":52,
   "outputs":[
    
   ],
   "metadata":{
    "datalore":{
     "node_id":"ju563jZg75Xo09AkvrvJs3",
     "type":"CODE",
     "hide_input_from_viewers":true,
     "hide_output_from_viewers":true
    }
   }
  },
  {
   "cell_type":"code",
   "source":[
    "#Load environment \n",
    "env = Env(dyn) \n",
    "\n",
    "#Reset environement and set seed\n",
    "obs, info = env.reset(seed=0)\n",
    "\n",
    "#Define Russo agent \n",
    "agent = toogle_DQNagent(env)\n",
    "agent.load_model(ROOT_PATH +  '\/best_DQN_4_1')\n",
    "agent.reset(0)\n",
    "\n",
    "#Run simulation and save outputed dict\n",
    "log = []\n",
    "i, max_step = 0, 30\n",
    "while i < max_step:\n",
    "    action = agent.act(obs, info)\n",
    "    obs, R, finished, info = env.step(action)\n",
    "    log.append(info)\n",
    "    i+=1\n",
    "\n",
    "#Parse log\n",
    "total = {p:np.array([getattr(l.total,p) for l in log]) for p in dyn.parameters}\n",
    "cities = {c:{p:np.array([getattr(l.city[c],p) for l in log]) for p in dyn.parameters} for c in dyn.cities}\n",
    "actions = {a:np.array([l.action[a] for l in log]) for a in log[0].action.keys()}"
   ],
   "execution_count":53,
   "outputs":[
    
   ],
   "metadata":{
    "datalore":{
     "node_id":"Nb8dGIwoL72vq6IxP6n5SP",
     "type":"CODE",
     "hide_input_from_viewers":true,
     "hide_output_from_viewers":true
    }
   }
  },
  {
   "cell_type":"code",
   "source":[
    "log"
   ],
   "execution_count":57,
   "outputs":[
    {
     "data":{
      "text\/plain":[
       "[Log(total=Parameters(day=7, suceptible=3716090, exposed=21379, infected=1318, recovered=10947, dead=91, initial_population=3749837), city={'Lausanne': Parameters(day=7, suceptible=294999, exposed=0, infected=0, recovered=0, dead=0, initial_population=295000), 'Geneva': Parameters(day=7, suceptible=899999, exposed=0, infected=0, recovered=0, dead=0, initial_population=900000), 'Sion': Parameters(day=7, suceptible=34977, exposed=0, infected=0, recovered=0, dead=0, initial_population=34978), 'Neuchâtel': Parameters(day=7, suceptible=44530, exposed=0, infected=0, recovered=0, dead=0, initial_population=44531), 'Basel': Parameters(day=7, suceptible=828587, exposed=1169, infected=49, recovered=194, dead=0, initial_population=830000), 'Bern': Parameters(day=7, suceptible=133114, exposed=0, infected=0, recovered=0, dead=0, initial_population=133115), 'Lücern': Parameters(day=7, suceptible=81986, exposed=10, infected=0, recovered=2, dead=0, initial_population=82000), 'St-Gallen': Parameters(day=7, suceptible=45329, exposed=19019, infected=1268, recovered=10504, dead=91, initial_population=76213), 'Zürich': Parameters(day=7, suceptible=1352569, exposed=1181, infected=1, recovered=247, dead=0, initial_population=1354000)}, action={'confinement': False, 'isolation': False, 'vaccinate': False, 'hospital': False}),\n",
       " Log(total=Parameters(day=14, suceptible=3651983, exposed=54958, infected=5000, recovered=37385, dead=549, initial_population=3749837), city={'Lausanne': Parameters(day=14, suceptible=294999, exposed=0, infected=0, recovered=0, dead=0, initial_population=295000), 'Geneva': Parameters(day=14, suceptible=899999, exposed=0, infected=0, recovered=0, dead=0, initial_population=900000), 'Sion': Parameters(day=14, suceptible=34977, exposed=0, infected=0, recovered=0, dead=0, initial_population=34978), 'Neuchâtel': Parameters(day=14, suceptible=44530, exposed=0, infected=0, recovered=0, dead=0, initial_population=44531), 'Basel': Parameters(day=14, suceptible=803125, exposed=20336, infected=3122, recovered=3406, dead=8, initial_population=830000), 'Bern': Parameters(day=14, suceptible=133109, exposed=4, infected=0, recovered=1, dead=0, initial_population=133115), 'Lücern': Parameters(day=14, suceptible=81923, exposed=56, infected=4, recovered=15, dead=0, initial_population=82000), 'St-Gallen': Parameters(day=14, suceptible=16688, exposed=26098, infected=1366, recovered=31518, dead=541, initial_population=76213), 'Zürich': Parameters(day=14, suceptible=1342633, exposed=8464, infected=508, recovered=2445, dead=0, initial_population=1354000)}, action={'confinement': False, 'isolation': False, 'vaccinate': False, 'hospital': False}),\n",
       " Log(total=Parameters(day=21, suceptible=3646586, exposed=26170, infected=3305, recovered=73654, dead=899, initial_population=3749837), city={'Lausanne': Parameters(day=21, suceptible=294999, exposed=0, infected=0, recovered=0, dead=0, initial_population=295000), 'Geneva': Parameters(day=21, suceptible=899999, exposed=0, infected=0, recovered=0, dead=0, initial_population=900000), 'Sion': Parameters(day=21, suceptible=34977, exposed=0, infected=0, recovered=0, dead=0, initial_population=34978), 'Neuchâtel': Parameters(day=21, suceptible=44529, exposed=0, infected=0, recovered=0, dead=0, initial_population=44531), 'Basel': Parameters(day=21, suceptible=800216, exposed=12675, infected=1218, recovered=16114, dead=33, initial_population=830000), 'Bern': Parameters(day=21, suceptible=133108, exposed=2, infected=0, recovered=3, dead=0, initial_population=133115), 'Lücern': Parameters(day=21, suceptible=81907, exposed=33, infected=7, recovered=51, dead=0, initial_population=82000), 'St-Gallen': Parameters(day=21, suceptible=16268, exposed=8750, infected=1823, recovered=48874, dead=862, initial_population=76213), 'Zürich': Parameters(day=21, suceptible=1340583, exposed=4710, infected=257, recovered=8612, dead=4, initial_population=1354000)}, action={'confinement': True, 'isolation': False, 'vaccinate': False, 'hospital': False}),\n",
       " Log(total=Parameters(day=28, suceptible=3642750, exposed=12869, infected=1967, recovered=92084, dead=945, initial_population=3749837), city={'Lausanne': Parameters(day=28, suceptible=294999, exposed=0, infected=0, recovered=0, dead=0, initial_population=295000), 'Geneva': Parameters(day=28, suceptible=899999, exposed=0, infected=0, recovered=0, dead=0, initial_population=900000), 'Sion': Parameters(day=28, suceptible=34977, exposed=0, infected=0, recovered=0, dead=0, initial_population=34978), 'Neuchâtel': Parameters(day=28, suceptible=44529, exposed=0, infected=0, recovered=1, dead=0, initial_population=44531), 'Basel': Parameters(day=28, suceptible=797601, exposed=6931, infected=934, recovered=24749, dead=42, initial_population=830000), 'Bern': Parameters(day=28, suceptible=133106, exposed=1, infected=0, recovered=6, dead=0, initial_population=133115), 'Lücern': Parameters(day=28, suceptible=81886, exposed=18, infected=2, recovered=92, dead=0, initial_population=82000), 'St-Gallen': Parameters(day=28, suceptible=15999, exposed=3050, infected=919, recovered=55709, dead=899, initial_population=76213), 'Zürich': Parameters(day=28, suceptible=1339654, exposed=2869, infected=112, recovered=11527, dead=4, initial_population=1354000)}, action={'confinement': True, 'isolation': False, 'vaccinate': False, 'hospital': True}),\n",
       " Log(total=Parameters(day=35, suceptible=3640385, exposed=6350, infected=403, recovered=102507, dead=977, initial_population=3749837), city={'Lausanne': Parameters(day=35, suceptible=294999, exposed=0, infected=0, recovered=0, dead=0, initial_population=295000), 'Geneva': Parameters(day=35, suceptible=899999, exposed=0, infected=0, recovered=0, dead=0, initial_population=900000), 'Sion': Parameters(day=35, suceptible=34977, exposed=0, infected=0, recovered=0, dead=0, initial_population=34978), 'Neuchâtel': Parameters(day=35, suceptible=44529, exposed=0, infected=0, recovered=1, dead=0, initial_population=44531), 'Basel': Parameters(day=35, suceptible=796008, exposed=3551, infected=42, recovered=30606, dead=51, initial_population=830000), 'Bern': Parameters(day=35, suceptible=133106, exposed=0, infected=0, recovered=8, dead=0, initial_population=133115), 'Lücern': Parameters(day=35, suceptible=81882, exposed=7, infected=2, recovered=109, dead=0, initial_population=82000), 'St-Gallen': Parameters(day=35, suceptible=15911, exposed=1109, infected=268, recovered=58369, dead=921, initial_population=76213), 'Zürich': Parameters(day=35, suceptible=1338974, exposed=1683, infected=91, recovered=13414, dead=5, initial_population=1354000)}, action={'confinement': True, 'isolation': False, 'vaccinate': False, 'hospital': False}),\n",
       " Log(total=Parameters(day=42, suceptible=3640058, exposed=2926, infected=328, recovered=106347, dead=978, initial_population=3749837), city={'Lausanne': Parameters(day=42, suceptible=294999, exposed=0, infected=0, recovered=0, dead=0, initial_population=295000), 'Geneva': Parameters(day=42, suceptible=899999, exposed=0, infected=0, recovered=0, dead=0, initial_population=900000), 'Sion': Parameters(day=42, suceptible=34977, exposed=0, infected=0, recovered=0, dead=0, initial_population=34978), 'Neuchâtel': Parameters(day=42, suceptible=44529, exposed=0, infected=0, recovered=1, dead=0, initial_population=44531), 'Basel': Parameters(day=42, suceptible=795815, exposed=1676, infected=160, recovered=32573, dead=51, initial_population=830000), 'Bern': Parameters(day=42, suceptible=133106, exposed=0, infected=0, recovered=8, dead=0, initial_population=133115), 'Lücern': Parameters(day=42, suceptible=81880, exposed=4, infected=0, recovered=115, dead=0, initial_population=82000), 'St-Gallen': Parameters(day=42, suceptible=16082, exposed=508, infected=43, recovered=59023, dead=922, initial_population=76213), 'Zürich': Parameters(day=42, suceptible=1338671, exposed=738, infected=125, recovered=14627, dead=5, initial_population=1354000)}, action={'confinement': True, 'isolation': False, 'vaccinate': False, 'hospital': True}),\n",
       " Log(total=Parameters(day=49, suceptible=3639942, exposed=1645, infected=172, recovered=107955, dead=978, initial_population=3749837), city={'Lausanne': Parameters(day=49, suceptible=294999, exposed=0, infected=0, recovered=0, dead=0, initial_population=295000), 'Geneva': Parameters(day=49, suceptible=899999, exposed=0, infected=0, recovered=0, dead=0, initial_population=900000), 'Sion': Parameters(day=49, suceptible=34977, exposed=0, infected=0, recovered=0, dead=0, initial_population=34978), 'Neuchâtel': Parameters(day=49, suceptible=44529, exposed=0, infected=0, recovered=1, dead=0, initial_population=44531), 'Basel': Parameters(day=49, suceptible=795572, exposed=894, infected=92, recovered=33666, dead=51, initial_population=830000), 'Bern': Parameters(day=49, suceptible=133106, exposed=0, infected=0, recovered=8, dead=0, initial_population=133115), 'Lücern': Parameters(day=49, suceptible=81880, exposed=2, infected=0, recovered=118, dead=0, initial_population=82000), 'St-Gallen': Parameters(day=49, suceptible=16301, exposed=245, infected=31, recovered=59090, dead=922, initial_population=76213), 'Zürich': Parameters(day=49, suceptible=1338579, exposed=504, infected=49, recovered=15072, dead=5, initial_population=1354000)}, action={'confinement': True, 'isolation': False, 'vaccinate': False, 'hospital': False}),\n",
       " Log(total=Parameters(day=56, suceptible=3616429, exposed=21168, infected=1191, recovered=110927, dead=981, initial_population=3749837), city={'Lausanne': Parameters(day=56, suceptible=294999, exposed=0, infected=0, recovered=0, dead=0, initial_population=295000), 'Geneva': Parameters(day=56, suceptible=899999, exposed=0, infected=0, recovered=0, dead=0, initial_population=900000), 'Sion': Parameters(day=56, suceptible=34977, exposed=0, infected=0, recovered=0, dead=0, initial_population=34978), 'Neuchâtel': Parameters(day=56, suceptible=44528, exposed=1, infected=0, recovered=1, dead=0, initial_population=44531), 'Basel': Parameters(day=56, suceptible=779977, exposed=14158, infected=528, recovered=35559, dead=54, initial_population=830000), 'Bern': Parameters(day=56, suceptible=133098, exposed=6, infected=0, recovered=10, dead=0, initial_population=133115), 'Lücern': Parameters(day=56, suceptible=81862, exposed=14, infected=2, recovered=122, dead=0, initial_population=82000), 'St-Gallen': Parameters(day=56, suceptible=16251, exposed=272, infected=18, recovered=59128, dead=922, initial_population=76213), 'Zürich': Parameters(day=56, suceptible=1330738, exposed=6717, infected=643, recovered=16107, dead=5, initial_population=1354000)}, action={'confinement': False, 'isolation': False, 'vaccinate': False, 'hospital': False}),\n",
       " Log(total=Parameters(day=63, suceptible=3612749, exposed=8849, infected=997, recovered=127092, dead=1008, initial_population=3749837), city={'Lausanne': Parameters(day=63, suceptible=294999, exposed=0, infected=0, recovered=0, dead=0, initial_population=295000), 'Geneva': Parameters(day=63, suceptible=899999, exposed=0, infected=0, recovered=0, dead=0, initial_population=900000), 'Sion': Parameters(day=63, suceptible=34977, exposed=0, infected=0, recovered=0, dead=0, initial_population=34978), 'Neuchâtel': Parameters(day=63, suceptible=44527, exposed=0, infected=0, recovered=2, dead=0, initial_population=44531), 'Basel': Parameters(day=63, suceptible=777832, exposed=5190, infected=738, recovered=46439, dead=77, initial_population=830000), 'Bern': Parameters(day=63, suceptible=133097, exposed=3, infected=0, recovered=14, dead=0, initial_population=133115), 'Lücern': Parameters(day=63, suceptible=81859, exposed=8, infected=0, recovered=133, dead=0, initial_population=82000), 'St-Gallen': Parameters(day=63, suceptible=16484, exposed=119, infected=0, recovered=59067, dead=922, initial_population=76213), 'Zürich': Parameters(day=63, suceptible=1328975, exposed=3529, infected=259, recovered=21437, dead=9, initial_population=1354000)}, action={'confinement': True, 'isolation': False, 'vaccinate': False, 'hospital': False}),\n",
       " Log(total=Parameters(day=70, suceptible=3532594, exposed=68662, infected=5135, recovered=143265, dead=1040, initial_population=3749837), city={'Lausanne': Parameters(day=70, suceptible=294999, exposed=0, infected=0, recovered=0, dead=0, initial_population=295000), 'Geneva': Parameters(day=70, suceptible=899999, exposed=0, infected=0, recovered=0, dead=0, initial_population=900000), 'Sion': Parameters(day=70, suceptible=34977, exposed=0, infected=0, recovered=0, dead=0, initial_population=34978), 'Neuchâtel': Parameters(day=70, suceptible=44515, exposed=9, infected=0, recovered=6, dead=0, initial_population=44531), 'Basel': Parameters(day=70, suceptible=725944, exposed=44584, infected=3759, recovered=55883, dead=105, initial_population=830000), 'Bern': Parameters(day=70, suceptible=133017, exposed=59, infected=5, recovered=32, dead=0, initial_population=133115), 'Lücern': Parameters(day=70, suceptible=81811, exposed=42, infected=3, recovered=144, dead=0, initial_population=82000), 'St-Gallen': Parameters(day=70, suceptible=16658, exposed=120, infected=8, recovered=58885, dead=922, initial_population=76213), 'Zürich': Parameters(day=70, suceptible=1300674, exposed=23848, infected=1360, recovered=28315, dead=13, initial_population=1354000)}, action={'confinement': False, 'isolation': False, 'vaccinate': False, 'hospital': False}),\n",
       " Log(total=Parameters(day=77, suceptible=3522897, exposed=35003, infected=3293, recovered=192941, dead=1184, initial_population=3749837), city={'Lausanne': Parameters(day=77, suceptible=294999, exposed=0, infected=0, recovered=0, dead=0, initial_population=295000), 'Geneva': Parameters(day=77, suceptible=899999, exposed=0, infected=0, recovered=0, dead=0, initial_population=900000), 'Sion': Parameters(day=77, suceptible=34977, exposed=0, infected=0, recovered=0, dead=0, initial_population=34978), 'Neuchâtel': Parameters(day=77, suceptible=44513, exposed=4, infected=0, recovered=13, dead=0, initial_population=44531), 'Basel': Parameters(day=77, suceptible=721521, exposed=21774, infected=1967, recovered=89205, dead=231, initial_population=830000), 'Bern': Parameters(day=77, suceptible=133002, exposed=41, infected=2, recovered=71, dead=0, initial_population=133115), 'Lücern': Parameters(day=77, suceptible=81802, exposed=21, infected=5, recovered=172, dead=0, initial_population=82000), 'St-Gallen': Parameters(day=77, suceptible=16904, exposed=56, infected=1, recovered=58710, dead=922, initial_population=76213), 'Zürich': Parameters(day=77, suceptible=1295180, exposed=13107, infected=1318, recovered=44770, dead=31, initial_population=1354000)}, action={'confinement': True, 'isolation': False, 'vaccinate': False, 'hospital': False}),\n",
       " Log(total=Parameters(day=84, suceptible=3515478, exposed=20851, infected=525, recovered=217246, dead=1222, initial_population=3749837), city={'Lausanne': Parameters(day=84, suceptible=294999, exposed=0, infected=0, recovered=0, dead=0, initial_population=295000), 'Geneva': Parameters(day=84, suceptible=899999, exposed=0, infected=0, recovered=0, dead=0, initial_population=900000), 'Sion': Parameters(day=84, suceptible=34977, exposed=0, infected=0, recovered=0, dead=0, initial_population=34978), 'Neuchâtel': Parameters(day=84, suceptible=44512, exposed=2, infected=0, recovered=17, dead=0, initial_population=44531), 'Basel': Parameters(day=84, suceptible=717673, exposed=12757, infected=165, recovered=103849, dead=255, initial_population=830000), 'Bern': Parameters(day=84, suceptible=132984, exposed=24, infected=1, recovered=108, dead=0, initial_population=133115), 'Lücern': Parameters(day=84, suceptible=81795, exposed=13, infected=2, recovered=191, dead=0, initial_population=82000), 'St-Gallen': Parameters(day=84, suceptible=17161, exposed=19, infected=3, recovered=58488, dead=922, initial_population=76213), 'Zürich': Parameters(day=84, suceptible=1291378, exposed=8036, infected=354, recovered=54593, dead=45, initial_population=1354000)}, action={'confinement': True, 'isolation': False, 'vaccinate': False, 'hospital': False}),\n",
       " Log(total=Parameters(day=91, suceptible=3510563, exposed=10914, infected=657, recovered=231999, dead=1233, initial_population=3749837), city={'Lausanne': Parameters(day=91, suceptible=294999, exposed=0, infected=0, recovered=0, dead=0, initial_population=295000), 'Geneva': Parameters(day=91, suceptible=899999, exposed=0, infected=0, recovered=0, dead=0, initial_population=900000), 'Sion': Parameters(day=91, suceptible=34977, exposed=0, infected=0, recovered=0, dead=0, initial_population=34978), 'Neuchâtel': Parameters(day=91, suceptible=44511, exposed=1, infected=0, recovered=18, dead=0, initial_population=44531), 'Basel': Parameters(day=91, suceptible=713357, exposed=7136, infected=216, recovered=113742, dead=265, initial_population=830000), 'Bern': Parameters(day=91, suceptible=132980, exposed=15, infected=1, recovered=121, dead=0, initial_population=133115), 'Lücern': Parameters(day=91, suceptible=81791, exposed=8, infected=0, recovered=202, dead=0, initial_population=82000), 'St-Gallen': Parameters(day=91, suceptible=17412, exposed=6, infected=0, recovered=58253, dead=922, initial_population=76213), 'Zürich': Parameters(day=91, suceptible=1290537, exposed=3748, infected=440, recovered=59663, dead=46, initial_population=1354000)}, action={'confinement': True, 'isolation': False, 'vaccinate': False, 'hospital': True}),\n",
       " Log(total=Parameters(day=98, suceptible=3383251, exposed=106472, infected=4226, recovered=260263, dead=1274, initial_population=3749837), city={'Lausanne': Parameters(day=98, suceptible=294998, exposed=0, infected=0, recovered=0, dead=0, initial_population=295000), 'Geneva': Parameters(day=98, suceptible=899997, exposed=0, infected=0, recovered=1, dead=0, initial_population=900000), 'Sion': Parameters(day=98, suceptible=34977, exposed=0, infected=0, recovered=0, dead=0, initial_population=34978), 'Neuchâtel': Parameters(day=98, suceptible=44501, exposed=8, infected=0, recovered=21, dead=0, initial_population=44531), 'Basel': Parameters(day=98, suceptible=649021, exposed=52289, infected=4122, recovered=129116, dead=290, initial_population=830000), 'Bern': Parameters(day=98, suceptible=132784, exposed=154, infected=10, recovered=169, dead=0, initial_population=133115), 'Lücern': Parameters(day=98, suceptible=81678, exposed=88, infected=1, recovered=233, dead=0, initial_population=82000), 'St-Gallen': Parameters(day=98, suceptible=17645, exposed=12, infected=1, recovered=58014, dead=922, initial_population=76213), 'Zürich': Parameters(day=98, suceptible=1227650, exposed=53921, infected=92, recovered=72709, dead=62, initial_population=1354000)}, action={'confinement': False, 'isolation': False, 'vaccinate': False, 'hospital': True}),\n",
       " Log(total=Parameters(day=105, suceptible=3368362, exposed=50023, infected=11492, recovered=325536, dead=1405, initial_population=3749837), city={'Lausanne': Parameters(day=105, suceptible=294998, exposed=0, infected=0, recovered=0, dead=0, initial_population=295000), 'Geneva': Parameters(day=105, suceptible=899997, exposed=0, infected=0, recovered=1, dead=0, initial_population=900000), 'Sion': Parameters(day=105, suceptible=34977, exposed=0, infected=0, recovered=0, dead=0, initial_population=34978), 'Neuchâtel': Parameters(day=105, suceptible=44498, exposed=6, infected=0, recovered=26, dead=0, initial_population=44531), 'Basel': Parameters(day=105, suceptible=643185, exposed=23518, infected=2743, recovered=166055, dead=351, initial_population=830000), 'Bern': Parameters(day=105, suceptible=132763, exposed=77, infected=15, recovered=263, dead=0, initial_population=133115), 'Lücern': Parameters(day=105, suceptible=81649, exposed=55, infected=1, recovered=295, dead=0, initial_population=82000), 'St-Gallen': Parameters(day=105, suceptible=17888, exposed=6, infected=1, recovered=57776, dead=922, initial_population=76213), 'Zürich': Parameters(day=105, suceptible=1218407, exposed=26361, infected=8732, recovered=101120, dead=132, initial_population=1354000)}, action={'confinement': True, 'isolation': False, 'vaccinate': False, 'hospital': True}),\n",
       " Log(total=Parameters(day=112, suceptible=3359135, exposed=28280, infected=4209, recovered=363859, dead=1477, initial_population=3749837), city={'Lausanne': Parameters(day=112, suceptible=294998, exposed=0, infected=0, recovered=1, dead=0, initial_population=295000), 'Geneva': Parameters(day=112, suceptible=899997, exposed=0, infected=0, recovered=2, dead=0, initial_population=900000), 'Sion': Parameters(day=112, suceptible=34977, exposed=0, infected=0, recovered=0, dead=0, initial_population=34978), 'Neuchâtel': Parameters(day=112, suceptible=44497, exposed=2, infected=0, recovered=32, dead=0, initial_population=44531), 'Basel': Parameters(day=112, suceptible=638351, exposed=14379, infected=1487, recovered=181245, dead=391, initial_population=830000), 'Bern': Parameters(day=112, suceptible=132742, exposed=42, infected=8, recovered=327, dead=0, initial_population=133115), 'Lücern': Parameters(day=112, suceptible=81632, exposed=35, infected=3, recovered=330, dead=0, initial_population=82000), 'St-Gallen': Parameters(day=112, suceptible=18134, exposed=3, infected=0, recovered=57534, dead=922, initial_population=76213), 'Zürich': Parameters(day=112, suceptible=1213807, exposed=13819, infected=2711, recovered=124388, dead=164, initial_population=1354000)}, action={'confinement': True, 'isolation': False, 'vaccinate': False, 'hospital': True}),\n",
       " Log(total=Parameters(day=119, suceptible=3353931, exposed=16173, infected=1952, recovered=383410, dead=1494, initial_population=3749837), city={'Lausanne': Parameters(day=119, suceptible=294998, exposed=0, infected=0, recovered=1, dead=0, initial_population=295000), 'Geneva': Parameters(day=119, suceptible=899997, exposed=0, infected=0, recovered=2, dead=0, initial_population=900000), 'Sion': Parameters(day=119, suceptible=34977, exposed=0, infected=0, recovered=0, dead=0, initial_population=34978), 'Neuchâtel': Parameters(day=119, suceptible=44496, exposed=1, infected=0, recovered=34, dead=0, initial_population=44531), 'Basel': Parameters(day=119, suceptible=636960, exposed=8566, infected=247, recovered=189679, dead=401, initial_population=830000), 'Bern': Parameters(day=119, suceptible=132732, exposed=27, infected=3, recovered=357, dead=0, initial_population=133115), 'Lücern': Parameters(day=119, suceptible=81627, exposed=23, infected=1, recovered=349, dead=0, initial_population=82000), 'St-Gallen': Parameters(day=119, suceptible=18374, exposed=1, infected=0, recovered=57296, dead=922, initial_population=76213), 'Zürich': Parameters(day=119, suceptible=1209770, exposed=7555, infected=1701, recovered=135692, dead=171, initial_population=1354000)}, action={'confinement': True, 'isolation': False, 'vaccinate': False, 'hospital': True}),\n",
       " Log(total=Parameters(day=126, suceptible=3353430, exposed=7926, infected=736, recovered=393373, dead=1496, initial_population=3749837), city={'Lausanne': Parameters(day=126, suceptible=294998, exposed=0, infected=0, recovered=1, dead=0, initial_population=295000), 'Geneva': Parameters(day=126, suceptible=899997, exposed=0, infected=0, recovered=2, dead=0, initial_population=900000), 'Sion': Parameters(day=126, suceptible=34977, exposed=0, infected=0, recovered=0, dead=0, initial_population=34978), 'Neuchâtel': Parameters(day=126, suceptible=44496, exposed=0, infected=0, recovered=35, dead=0, initial_population=44531), 'Basel': Parameters(day=126, suceptible=636805, exposed=4118, infected=628, recovered=193900, dead=402, initial_population=830000), 'Bern': Parameters(day=126, suceptible=132728, exposed=15, infected=0, recovered=376, dead=0, initial_population=133115), 'Lücern': Parameters(day=126, suceptible=81624, exposed=14, infected=0, recovered=362, dead=0, initial_population=82000), 'St-Gallen': Parameters(day=126, suceptible=18615, exposed=0, infected=0, recovered=57057, dead=922, initial_population=76213), 'Zürich': Parameters(day=126, suceptible=1209190, exposed=3779, infected=108, recovered=141640, dead=172, initial_population=1354000)}, action={'confinement': True, 'isolation': False, 'vaccinate': False, 'hospital': True}),\n",
       " Log(total=Parameters(day=133, suceptible=3353619, exposed=3519, infected=223, recovered=398103, dead=1498, initial_population=3749837), city={'Lausanne': Parameters(day=133, suceptible=294998, exposed=0, infected=0, recovered=1, dead=0, initial_population=295000), 'Geneva': Parameters(day=133, suceptible=899997, exposed=0, infected=0, recovered=2, dead=0, initial_population=900000), 'Sion': Parameters(day=133, suceptible=34977, exposed=0, infected=0, recovered=0, dead=0, initial_population=34978), 'Neuchâtel': Parameters(day=133, suceptible=44496, exposed=0, infected=0, recovered=35, dead=0, initial_population=44531), 'Basel': Parameters(day=133, suceptible=636839, exposed=1867, infected=152, recovered=196591, dead=404, initial_population=830000), 'Bern': Parameters(day=133, suceptible=132724, exposed=9, infected=1, recovered=385, dead=0, initial_population=133115), 'Lücern': Parameters(day=133, suceptible=81623, exposed=7, infected=0, recovered=371, dead=0, initial_population=82000), 'St-Gallen': Parameters(day=133, suceptible=18843, exposed=0, infected=0, recovered=56830, dead=922, initial_population=76213), 'Zürich': Parameters(day=133, suceptible=1209122, exposed=1636, infected=70, recovered=143888, dead=172, initial_population=1354000)}, action={'confinement': True, 'isolation': False, 'vaccinate': False, 'hospital': False}),\n",
       " Log(total=Parameters(day=140, suceptible=3354611, exposed=1861, infected=117, recovered=398891, dead=1499, initial_population=3749837), city={'Lausanne': Parameters(day=140, suceptible=294998, exposed=0, infected=0, recovered=1, dead=0, initial_population=295000), 'Geneva': Parameters(day=140, suceptible=899997, exposed=0, infected=0, recovered=2, dead=0, initial_population=900000), 'Sion': Parameters(day=140, suceptible=34977, exposed=0, infected=0, recovered=0, dead=0, initial_population=34978), 'Neuchâtel': Parameters(day=140, suceptible=44496, exposed=0, infected=0, recovered=35, dead=0, initial_population=44531), 'Basel': Parameters(day=140, suceptible=637259, exposed=929, infected=76, recovered=197185, dead=404, initial_population=830000), 'Bern': Parameters(day=140, suceptible=132723, exposed=4, infected=0, recovered=392, dead=0, initial_population=133115), 'Lücern': Parameters(day=140, suceptible=81623, exposed=3, infected=0, recovered=375, dead=0, initial_population=82000), 'St-Gallen': Parameters(day=140, suceptible=19075, exposed=0, infected=0, recovered=56597, dead=922, initial_population=76213), 'Zürich': Parameters(day=140, suceptible=1209463, exposed=925, infected=41, recovered=144304, dead=173, initial_population=1354000)}, action={'confinement': True, 'isolation': False, 'vaccinate': False, 'hospital': True}),\n",
       " Log(total=Parameters(day=147, suceptible=3343514, exposed=10942, infected=445, recovered=400615, dead=1499, initial_population=3749837), city={'Lausanne': Parameters(day=147, suceptible=294998, exposed=0, infected=0, recovered=1, dead=0, initial_population=295000), 'Geneva': Parameters(day=147, suceptible=899997, exposed=0, infected=0, recovered=2, dead=0, initial_population=900000), 'Sion': Parameters(day=147, suceptible=34977, exposed=0, infected=0, recovered=0, dead=0, initial_population=34978), 'Neuchâtel': Parameters(day=147, suceptible=44494, exposed=1, infected=0, recovered=36, dead=0, initial_population=44531), 'Basel': Parameters(day=147, suceptible=631417, exposed=5352, infected=355, recovered=198364, dead=404, initial_population=830000), 'Bern': Parameters(day=147, suceptible=132670, exposed=43, infected=5, recovered=402, dead=0, initial_population=133115), 'Lücern': Parameters(day=147, suceptible=81547, exposed=59, infected=5, recovered=389, dead=0, initial_population=82000), 'St-Gallen': Parameters(day=147, suceptible=19312, exposed=0, infected=0, recovered=56359, dead=922, initial_population=76213), 'Zürich': Parameters(day=147, suceptible=1204102, exposed=5487, infected=80, recovered=145062, dead=173, initial_population=1354000)}, action={'confinement': False, 'isolation': False, 'vaccinate': False, 'hospital': True}),\n",
       " Log(total=Parameters(day=154, suceptible=3272694, exposed=58510, infected=5905, recovered=418712, dead=1512, initial_population=3749837), city={'Lausanne': Parameters(day=154, suceptible=294990, exposed=5, infected=0, recovered=2, dead=0, initial_population=295000), 'Geneva': Parameters(day=154, suceptible=899995, exposed=1, infected=0, recovered=3, dead=0, initial_population=900000), 'Sion': Parameters(day=154, suceptible=34977, exposed=0, infected=0, recovered=0, dead=0, initial_population=34978), 'Neuchâtel': Parameters(day=154, suceptible=44481, exposed=10, infected=0, recovered=39, dead=0, initial_population=44531), 'Basel': Parameters(day=154, suceptible=608029, exposed=19426, infected=1687, recovered=206659, dead=409, initial_population=830000), 'Bern': Parameters(day=154, suceptible=131972, exposed=596, infected=8, recovered=544, dead=0, initial_population=133115), 'Lücern': Parameters(day=154, suceptible=80881, exposed=614, infected=21, recovered=484, dead=0, initial_population=82000), 'St-Gallen': Parameters(day=154, suceptible=19548, exposed=4, infected=0, recovered=56120, dead=922, initial_population=76213), 'Zürich': Parameters(day=154, suceptible=1157821, exposed=37854, infected=4189, recovered=154861, dead=181, initial_population=1354000)}, action={'confinement': False, 'isolation': False, 'vaccinate': False, 'hospital': True}),\n",
       " Log(total=Parameters(day=161, suceptible=3268791, exposed=27367, infected=2665, recovered=457177, dead=1550, initial_population=3749837), city={'Lausanne': Parameters(day=161, suceptible=294990, exposed=3, infected=0, recovered=6, dead=0, initial_population=295000), 'Geneva': Parameters(day=161, suceptible=899994, exposed=0, infected=0, recovered=4, dead=0, initial_population=900000), 'Sion': Parameters(day=161, suceptible=34977, exposed=0, infected=0, recovered=0, dead=0, initial_population=34978), 'Neuchâtel': Parameters(day=161, suceptible=44478, exposed=7, infected=1, recovered=45, dead=0, initial_population=44531), 'Basel': Parameters(day=161, suceptible=605880, exposed=10439, infected=473, recovered=218991, dead=427, initial_population=830000), 'Bern': Parameters(day=161, suceptible=131857, exposed=352, infected=43, recovered=868, dead=0, initial_population=133115), 'Lücern': Parameters(day=161, suceptible=80772, exposed=317, infected=3, recovered=908, dead=0, initial_population=82000), 'St-Gallen': Parameters(day=161, suceptible=19775, exposed=2, infected=0, recovered=55895, dead=922, initial_population=76213), 'Zürich': Parameters(day=161, suceptible=1156068, exposed=16247, infected=2145, recovered=180460, dead=201, initial_population=1354000)}, action={'confinement': True, 'isolation': False, 'vaccinate': False, 'hospital': True}),\n",
       " Log(total=Parameters(day=168, suceptible=3265322, exposed=13490, infected=843, recovered=476316, dead=1577, initial_population=3749837), city={'Lausanne': Parameters(day=168, suceptible=294989, exposed=1, infected=0, recovered=7, dead=0, initial_population=295000), 'Geneva': Parameters(day=168, suceptible=899994, exposed=0, infected=0, recovered=5, dead=0, initial_population=900000), 'Sion': Parameters(day=168, suceptible=34977, exposed=0, infected=0, recovered=0, dead=0, initial_population=34978), 'Neuchâtel': Parameters(day=168, suceptible=44475, exposed=3, infected=0, recovered=52, dead=0, initial_population=44531), 'Basel': Parameters(day=168, suceptible=605141, exposed=5805, infected=521, recovered=224307, dead=435, initial_population=830000), 'Bern': Parameters(day=168, suceptible=131793, exposed=173, infected=19, recovered=1135, dead=0, initial_population=133115), 'Lücern': Parameters(day=168, suceptible=80711, exposed=148, infected=10, recovered=1132, dead=0, initial_population=82000), 'St-Gallen': Parameters(day=168, suceptible=20014, exposed=0, infected=0, recovered=55658, dead=922, initial_population=76213), 'Zürich': Parameters(day=168, suceptible=1153228, exposed=7360, infected=293, recovered=194020, dead=220, initial_population=1354000)}, action={'confinement': True, 'isolation': False, 'vaccinate': False, 'hospital': False}),\n",
       " Log(total=Parameters(day=175, suceptible=3264640, exposed=6427, infected=959, recovered=483951, dead=1581, initial_population=3749837), city={'Lausanne': Parameters(day=175, suceptible=294989, exposed=0, infected=0, recovered=10, dead=0, initial_population=295000), 'Geneva': Parameters(day=175, suceptible=899994, exposed=0, infected=0, recovered=5, dead=0, initial_population=900000), 'Sion': Parameters(day=175, suceptible=34977, exposed=0, infected=0, recovered=0, dead=0, initial_population=34978), 'Neuchâtel': Parameters(day=175, suceptible=44475, exposed=2, infected=0, recovered=54, dead=0, initial_population=44531), 'Basel': Parameters(day=175, suceptible=604801, exposed=2830, infected=201, recovered=227941, dead=437, initial_population=830000), 'Bern': Parameters(day=175, suceptible=131767, exposed=116, infected=1, recovered=1239, dead=0, initial_population=133115), 'Lücern': Parameters(day=175, suceptible=80691, exposed=80, infected=5, recovered=1224, dead=0, initial_population=82000), 'St-Gallen': Parameters(day=175, suceptible=20242, exposed=0, infected=0, recovered=55430, dead=922, initial_population=76213), 'Zürich': Parameters(day=175, suceptible=1152704, exposed=3399, infected=752, recovered=198048, dead=222, initial_population=1354000)}, action={'confinement': True, 'isolation': False, 'vaccinate': False, 'hospital': True}),\n",
       " Log(total=Parameters(day=182, suceptible=3265041, exposed=3797, infected=580, recovered=486572, dead=1585, initial_population=3749837), city={'Lausanne': Parameters(day=182, suceptible=294988, exposed=0, infected=0, recovered=10, dead=0, initial_population=295000), 'Geneva': Parameters(day=182, suceptible=899993, exposed=0, infected=0, recovered=5, dead=0, initial_population=900000), 'Sion': Parameters(day=182, suceptible=34977, exposed=0, infected=0, recovered=0, dead=0, initial_population=34978), 'Neuchâtel': Parameters(day=182, suceptible=44474, exposed=1, infected=0, recovered=56, dead=0, initial_population=44531), 'Basel': Parameters(day=182, suceptible=605645, exposed=1450, infected=235, recovered=228462, dead=437, initial_population=830000), 'Bern': Parameters(day=182, suceptible=131735, exposed=70, infected=16, recovered=1302, dead=0, initial_population=133115), 'Lücern': Parameters(day=182, suceptible=80679, exposed=41, infected=7, recovered=1273, dead=0, initial_population=82000), 'St-Gallen': Parameters(day=182, suceptible=20472, exposed=0, infected=0, recovered=55200, dead=922, initial_population=76213), 'Zürich': Parameters(day=182, suceptible=1152078, exposed=2235, infected=322, recovered=200264, dead=226, initial_population=1354000)}, action={'confinement': True, 'isolation': False, 'vaccinate': False, 'hospital': False}),\n",
       " Log(total=Parameters(day=189, suceptible=3265954, exposed=1896, infected=132, recovered=488026, dead=1586, initial_population=3749837), city={'Lausanne': Parameters(day=189, suceptible=294988, exposed=0, infected=0, recovered=11, dead=0, initial_population=295000), 'Geneva': Parameters(day=189, suceptible=899993, exposed=0, infected=0, recovered=6, dead=0, initial_population=900000), 'Sion': Parameters(day=189, suceptible=34977, exposed=0, infected=0, recovered=0, dead=0, initial_population=34978), 'Neuchâtel': Parameters(day=189, suceptible=44474, exposed=0, infected=0, recovered=57, dead=0, initial_population=44531), 'Basel': Parameters(day=189, suceptible=606044, exposed=629, infected=27, recovered=229102, dead=438, initial_population=830000), 'Bern': Parameters(day=189, suceptible=131715, exposed=41, infected=4, recovered=1367, dead=0, initial_population=133115), 'Lücern': Parameters(day=189, suceptible=80672, exposed=23, infected=3, recovered=1303, dead=0, initial_population=82000), 'St-Gallen': Parameters(day=189, suceptible=20706, exposed=0, infected=0, recovered=54967, dead=922, initial_population=76213), 'Zürich': Parameters(day=189, suceptible=1152385, exposed=1203, infected=98, recovered=201213, dead=226, initial_population=1354000)}, action={'confinement': True, 'isolation': False, 'vaccinate': False, 'hospital': False}),\n",
       " Log(total=Parameters(day=196, suceptible=3267653, exposed=901, infected=151, recovered=487327, dead=1586, initial_population=3749837), city={'Lausanne': Parameters(day=196, suceptible=294988, exposed=0, infected=0, recovered=11, dead=0, initial_population=295000), 'Geneva': Parameters(day=196, suceptible=899993, exposed=0, infected=0, recovered=6, dead=0, initial_population=900000), 'Sion': Parameters(day=196, suceptible=34977, exposed=0, infected=0, recovered=0, dead=0, initial_population=34978), 'Neuchâtel': Parameters(day=196, suceptible=44475, exposed=0, infected=0, recovered=57, dead=0, initial_population=44531), 'Basel': Parameters(day=196, suceptible=606922, exposed=283, infected=38, recovered=228559, dead=438, initial_population=830000), 'Bern': Parameters(day=196, suceptible=131702, exposed=32, infected=0, recovered=1394, dead=0, initial_population=133115), 'Lücern': Parameters(day=196, suceptible=80672, exposed=10, infected=1, recovered=1318, dead=0, initial_population=82000), 'St-Gallen': Parameters(day=196, suceptible=20939, exposed=0, infected=0, recovered=54734, dead=922, initial_population=76213), 'Zürich': Parameters(day=196, suceptible=1152985, exposed=576, infected=112, recovered=201248, dead=226, initial_population=1354000)}, action={'confinement': True, 'isolation': False, 'vaccinate': False, 'hospital': True}),\n",
       " Log(total=Parameters(day=203, suceptible=3263858, exposed=4656, infected=443, recovered=487117, dead=1586, initial_population=3749837), city={'Lausanne': Parameters(day=203, suceptible=294985, exposed=2, infected=0, recovered=11, dead=0, initial_population=295000), 'Geneva': Parameters(day=203, suceptible=899993, exposed=0, infected=0, recovered=6, dead=0, initial_population=900000), 'Sion': Parameters(day=203, suceptible=34977, exposed=0, infected=0, recovered=0, dead=0, initial_population=34978), 'Neuchâtel': Parameters(day=203, suceptible=44472, exposed=2, infected=0, recovered=57, dead=0, initial_population=44531), 'Basel': Parameters(day=203, suceptible=605713, exposed=1695, infected=98, recovered=228296, dead=438, initial_population=830000), 'Bern': Parameters(day=203, suceptible=131624, exposed=84, infected=10, recovered=1410, dead=0, initial_population=133115), 'Lücern': Parameters(day=203, suceptible=80579, exposed=77, infected=8, recovered=1336, dead=0, initial_population=82000), 'St-Gallen': Parameters(day=203, suceptible=21156, exposed=0, infected=0, recovered=54517, dead=922, initial_population=76213), 'Zürich': Parameters(day=203, suceptible=1150359, exposed=2796, infected=327, recovered=201484, dead=226, initial_population=1354000)}, action={'confinement': False, 'isolation': False, 'vaccinate': False, 'hospital': True}),\n",
       " Log(total=Parameters(day=210, suceptible=3240082, exposed=22622, infected=2036, recovered=491732, dead=1588, initial_population=3749837), city={'Lausanne': Parameters(day=210, suceptible=294966, exposed=16, infected=1, recovered=15, dead=0, initial_population=295000), 'Geneva': Parameters(day=210, suceptible=899987, exposed=4, infected=0, recovered=7, dead=0, initial_population=900000), 'Sion': Parameters(day=210, suceptible=34977, exposed=0, infected=0, recovered=0, dead=0, initial_population=34978), 'Neuchâtel': Parameters(day=210, suceptible=44460, exposed=10, infected=1, recovered=60, dead=0, initial_population=44531), 'Basel': Parameters(day=210, suceptible=591380, exposed=12646, infected=1458, recovered=230316, dead=440, initial_population=830000), 'Bern': Parameters(day=210, suceptible=129540, exposed=1686, infected=61, recovered=1841, dead=0, initial_population=133115), 'Lücern': Parameters(day=210, suceptible=79210, exposed=1181, infected=92, recovered=1517, dead=0, initial_population=82000), 'St-Gallen': Parameters(day=210, suceptible=21379, exposed=1, infected=0, recovered=54292, dead=922, initial_population=76213), 'Zürich': Parameters(day=210, suceptible=1144183, exposed=7078, infected=423, recovered=203684, dead=226, initial_population=1354000)}, action={'confinement': False, 'isolation': False, 'vaccinate': False, 'hospital': True})]"
      ]
     },
     "metadata":{
      
     },
     "output_type":"display_data"
    }
   ],
   "metadata":{
    "datalore":{
     "node_id":"7SFhiMkg07DNHkxk7WOc7U",
     "type":"CODE",
     "hide_input_from_viewers":true,
     "hide_output_from_viewers":true
    }
   }
  },
  {
   "cell_type":"code",
   "source":[
    "plot_episode(total, cities, actions)"
   ],
   "execution_count":54,
   "outputs":[
    
   ],
   "metadata":{
    "datalore":{
     "node_id":"70Uy98kRWDCqVA275R5osI",
     "type":"CODE",
     "hide_input_from_viewers":true,
     "hide_output_from_viewers":false,
     "report_properties":{
      "rowId":"hR1ea6IVqcxFLfNtlTHKMu",
      "relativeY":0
     }
    }
   }
  },
  {
   "cell_type":"code",
   "source":[
    "def evaluate_policy (policy, env, nb_episode:int, seed:List[int]):\n",
    "  '''\n",
    "  Run multiple episode using the inputed policy and compute for each episode:\n",
    "  - the total number of confinement days\/weeks\n",
    "  - the cummulative reward\n",
    "  - the total number of deaths\n",
    "  parameters:\n",
    "    policy: \n",
    "      policy used to chose next action\n",
    "    env: \n",
    "      environment for the simulation\n",
    "    nb_episode: int,\n",
    "      number of episode played for the estimation\n",
    "    seeds: int, \n",
    "      random sequence of seeds of length nb_episode for reproducibility\n",
    "  '''\n",
    "\n",
    "  #Run multiple episodes\n",
    "  N_conf, cum_reward, nb_deaths = [], [], []\n",
    "  for i in range(0,nb_episode):\n",
    "    #Reset environement\/agent and set seed\n",
    "    obs, info = env.reset(seeds[i])\n",
    "    policy.reset(seeds[i])\n",
    "    \n",
    "    finished = False\n",
    "    ep_N_conf, ep_reward = 0, 0\n",
    "    while not finished:\n",
    "      action = policy.act(obs, info)\n",
    "      obs, R, finished, info = env.step(action)\n",
    "\n",
    "      #Log reward + confinement week\n",
    "      ep_reward += R.item()\n",
    "      ep_N_conf += int(action['confinement'] == True)\n",
    "\n",
    "    N_conf.append(ep_N_conf); cum_reward.append(ep_reward)\n",
    "    nb_deaths.append(obs.total.dead[-1])\n",
    "\n",
    "  return N_conf, cum_reward, nb_deaths"
   ],
   "execution_count":60,
   "outputs":[
    
   ],
   "metadata":{
    "datalore":{
     "node_id":"qtvdT65GtLENTcrVgy7YvS",
     "type":"CODE",
     "hide_input_from_viewers":true,
     "hide_output_from_viewers":true
    }
   }
  },
  {
   "cell_type":"code",
   "source":[
    "#Load environment \n",
    "env = Env(dyn) \n",
    "\n",
    "#Reset environement and set seed\n",
    "obs, info = env.reset(seed=0)\n",
    "\n",
    "#Define Russo agent \n",
    "agent = toogle_DQNagent(env)\n",
    "agent.load_model(ROOT_PATH + '\/best_DQN_4_1')\n",
    "agent.reset(0)\n",
    "\n",
    "seeds = np.arange(0,50,1)\n",
    "N_conf, cum_reward, nb_deaths = evaluate_policy(agent, env, 50, seeds)\n",
    "\n",
    "print(f'Average number of confinement weeks per episode: ', np.mean(N_conf))\n",
    "print('Average cummulative reward: ', np.mean(cum_reward))\n",
    "print('Average number of deaths: ', np.mean(nb_deaths))"
   ],
   "execution_count":61,
   "outputs":[
    {
     "name":"stdout",
     "text":[
      "Average number of confinement weeks per episode:  21.84\n",
      "Average cummulative reward:  16.770310837384315\n",
      "Average number of deaths:  3539.42\n"
     ],
     "output_type":"stream"
    }
   ],
   "metadata":{
    "datalore":{
     "node_id":"4UpMduqfhPcK50kMUUJVmF",
     "type":"CODE",
     "hide_input_from_viewers":true,
     "hide_output_from_viewers":true
    }
   }
  },
  {
   "cell_type":"code",
   "source":[
    "fig, ax = plt.subplots(2,2,figsize=(18,8))\n",
    "\n",
    "hist_avg(ax[0,0], nb_deaths,'deaths')\n",
    "\n",
    "hist_avg(ax[0,1], cum_reward,'cumulative rewards')\n",
    "\n",
    "N_conf = [x*7 for x in N_conf] #Convert N_conf in days from week\n",
    "hist_avg(ax[1,0], N_conf,'confined days')\n",
    "\n",
    "fig.delaxes(ax[1,1])\n",
    "fig.tight_layout()\n",
    "plt.show()"
   ],
   "execution_count":62,
   "outputs":[
    
   ],
   "metadata":{
    "datalore":{
     "node_id":"ju5kGOsCuitqlQVB0ml1Za",
     "type":"CODE",
     "hide_input_from_viewers":true,
     "hide_output_from_viewers":false,
     "report_properties":{
      "rowId":"NOVkbhZmIwaHnGAq0s52Su",
      "relativeY":0
     }
    }
   }
  },
  {
   "cell_type":"markdown",
   "source":[
    "## 4.2"
   ],
   "attachments":{
    
   },
   "metadata":{
    "datalore":{
     "node_id":"dAzEkOXX3647wWcjouXYqT",
     "type":"MD",
     "hide_input_from_viewers":false,
     "hide_output_from_viewers":false,
     "report_properties":{
      "rowId":"gBKiJhHgeO1Oj8Wm8goXrq",
      "relativeY":0
     }
    }
   }
  },
  {
   "cell_type":"code",
   "source":[
    "#Select toggle multi-action using epsilon greedy\n",
    "def select_factor_action(policy_net, state, epsilon):\n",
    "    sample = random.random()\n",
    "\n",
    "    action = {'confinement': False, 'isolation': False, 'hospital': False, 'vaccinate': False}\n",
    "    if sample > epsilon:\n",
    "        with torch.no_grad():\n",
    "            #We pick action for each decision maximizing Qvalue\n",
    "            output = policy_net(state).view(2,4).argmax(dim=0).view(1, 4)\n",
    "    else:\n",
    "      #Pick random action\n",
    "      output = torch.tensor(np.random.randint(2, size=(1, 4)), device=DEVICE, dtype=torch.long)\n",
    "\n",
    "    for i, key in enumerate(action.keys()):\n",
    "      action[key] = bool(output[:,i])\n",
    "      \n",
    "    return action, output"
   ],
   "execution_count":63,
   "outputs":[
    
   ],
   "metadata":{
    "datalore":{
     "node_id":"YQXpgt4rWFoefbw1CuMkbR",
     "type":"CODE",
     "hide_input_from_viewers":true,
     "hide_output_from_viewers":true
    }
   }
  },
  {
   "cell_type":"code",
   "source":[
    "#Define training loop\n",
    "def optimize_model(policy_model, target_model, memory, optimizer, criterion, BATCH_SIZE, GAMMA):\n",
    "    if len(memory) < BATCH_SIZE:\n",
    "      return 0\n",
    "    #Get batch from memory buffer   \n",
    "    transitions = memory.sample(BATCH_SIZE)\n",
    "    batch = Transition(*zip(*transitions))\n",
    "\n",
    "    # Compute a mask of non-final states and concatenate the batch elements\n",
    "    non_final_mask = torch.tensor(tuple(map(lambda s: s is not None,\n",
    "                                          batch.next_state)), device=DEVICE, dtype=torch.bool)\n",
    "    non_final_next_states = torch.cat([s for s in batch.next_state\n",
    "                                                if s is not None])\n",
    "    state_batch = torch.cat(batch.state)\n",
    "    action_batch = torch.cat(batch.action)\n",
    "    reward_batch = torch.cat(batch.reward)\n",
    "\n",
    "    # Compute Q(s_t, a) according to policy network\n",
    "    state_action_values = policy_model(state_batch).gather(1, action_batch)\n",
    "    state_action_values = state_action_values.sum(dim=1).squeeze()\n",
    "    \n",
    "\n",
    "    # Compute V(s_{t+1}) for all next states according to target_net.\n",
    "    next_state_values = torch.zeros((BATCH_SIZE,4), device=DEVICE)\n",
    "    with torch.no_grad():\n",
    "        next_state_values[non_final_mask,:] = target_model(non_final_next_states).view(-1,2,4).max(1)[0]\n",
    "    next_state_values = next_state_values.sum(dim=1).squeeze()\n",
    "    \n",
    "    # Compute expected Q values\n",
    "  \n",
    "    expected_state_action_values = (next_state_values * GAMMA) + reward_batch.squeeze()\n",
    "\n",
    "    # Compute Huber loss\n",
    "    loss = criterion(state_action_values, expected_state_action_values.unsqueeze(1))\n",
    "\n",
    "    # Optimize the model\n",
    "    optimizer.zero_grad()\n",
    "    loss.backward()\n",
    "    optimizer.step()\n",
    "\n",
    "    return loss"
   ],
   "execution_count":67,
   "outputs":[
    
   ],
   "metadata":{
    "datalore":{
     "node_id":"Iodmsox4DeLi78U2xRGNy9",
     "type":"CODE",
     "hide_input_from_viewers":true,
     "hide_output_from_viewers":true
    }
   }
  },
  {
   "cell_type":"code",
   "source":[
    "def train_DQN(LR, decreasing_eps, BATCH_SIZE, GAMMA, eval_seeds):\n",
    "  n_actions = 8\n",
    "  state, info = env.reset()\n",
    "  n_observations = 126\n",
    "\n",
    "  policy_net = DQN(n_observations, n_actions).to(DEVICE)\n",
    "  target_net = DQN(n_observations, n_actions).to(DEVICE)\n",
    "  target_net.load_state_dict(policy_net.state_dict())\n",
    "\n",
    "  optimizer = optim.AdamW(policy_net.parameters(), lr=LR)\n",
    "  criterion = nn.SmoothL1Loss()\n",
    "\n",
    "  memory = ReplayMemory(20000)\n",
    "  \n",
    "  num_episodes = 500\n",
    "\n",
    "  training_trace, eval_trace, losses_episode = [], [], []\n",
    "  for i_episode in range(num_episodes):\n",
    "\n",
    "      #Reset environment, get initial state\n",
    "      state, info = env.reset()\n",
    "      state = (torch.tensor([x.infected + x.dead for x in state.city.values()], dtype=torch.float32, device=DEVICE).flatten().view(1,-1))**(1\/4)\n",
    "\n",
    "      total_reward, loss_episode = 0, 0\n",
    "      for t in count():\n",
    "        \n",
    "        #Compute epsilon\n",
    "        eps_min, eps_max, Tmax = decreasing_eps\n",
    "        EPS = compute_epsilon(eps_min, eps_max, Tmax, t)\n",
    "\n",
    "        #Get next action according to policy\n",
    "        action, output = select_factor_action(policy_net, state, EPS)\n",
    "            \n",
    "        #Take action, observe reward + next state\n",
    "        observation, reward, done, info = env.step(action)\n",
    "        total_reward += reward\n",
    "        reward = torch.tensor([reward], device=DEVICE)\n",
    "\n",
    "        if done:\n",
    "            next_state = None\n",
    "        else:\n",
    "            next_state = (torch.tensor([x.infected + x.dead for x in observation.city.values()], dtype=torch.float32, device=DEVICE).flatten().view(1,-1))**(1\/4)\n",
    "\n",
    "        # Store the transition in memory\n",
    "        memory.push(state, output, next_state, reward)\n",
    "\n",
    "        # Move to the next state\n",
    "        state = next_state\n",
    "\n",
    "        # Perform one step of the optimization (on the policy network)\n",
    "        loss = optimize_model(policy_net, target_net, memory, optimizer, criterion, BATCH_SIZE, GAMMA)\n",
    "        loss_episode += loss\n",
    "\n",
    "        #Fully update target network's weights every 5 episodes\n",
    "        if (i_episode+1) % 5 == 0:\n",
    "          target_net.load_state_dict(policy_net.state_dict())\n",
    "\n",
    "        if done:\n",
    "          training_trace.append(total_reward)\n",
    "          losses_episode.append(loss_episode)\n",
    "          break\n",
    "      \n",
    "      if (i_episode+1) % 50 == 0 or (i_episode+1) == 500:\n",
    "        #Evaluate current model on 20 episodes\n",
    "        eval_reward = []\n",
    "        for i in range(20):\n",
    "          #Reset environment, get initial state\n",
    "          state, info = env.reset(eval_seeds[i])\n",
    "          state = (torch.tensor([x.infected + x.dead for x in state.city.values()], dtype=torch.float32, device=DEVICE).flatten().view(1,-1))**(1\/4)\n",
    "\n",
    "          total_reward = 0\n",
    "          for t in count():\n",
    "            #Get next action according to policy\n",
    "            with torch.no_grad():\n",
    "              action, output = select_factor_action(policy_net, state, 0)\n",
    "                \n",
    "            #Take action, observe reward + next state\n",
    "            observation, reward, done, info = env.step(action)\n",
    "            total_reward += reward.item()\n",
    "\n",
    "            state = (torch.tensor([x.infected + x.dead for x in observation.city.values()], dtype=torch.float32, device=DEVICE).flatten().view(1,-1))**(1\/4)\n",
    "\n",
    "            if done:\n",
    "              eval_reward.append(total_reward)\n",
    "              break\n",
    "          \n",
    "        eval_trace.append(np.mean(eval_reward))\n",
    "    \n",
    "  return target_net, training_trace, eval_trace, losses_episode"
   ],
   "execution_count":68,
   "outputs":[
    
   ],
   "metadata":{
    "datalore":{
     "node_id":"Yoh2RxBCaFINxtx4R76S2v",
     "type":"CODE",
     "hide_input_from_viewers":true,
     "hide_output_from_viewers":true
    }
   }
  },
  {
   "cell_type":"code",
   "source":[
    "#Hyperparameters\n",
    "BATCH_SIZE = 2048\n",
    "GAMMA = 0.9\n",
    "EPS_min, EPS_max = 0.2, 0.7\n",
    "LR = 1e-5\n",
    "Tmax = 500\n",
    "\n",
    "#Load environment, train 3 times\n",
    "env = Env(dyn) \n",
    "eval_seeds = np.arange(0,25*3)\n",
    "\n",
    "\n",
    "best_reward = -10000\n",
    "training_traces, eval_traces, losses = [],[],[]\n",
    "for j in range(3):\n",
    "  target_net, training_trace, eval_trace, loss_episode = train_DQN(LR, [EPS_min, EPS_max, Tmax], BATCH_SIZE, GAMMA, eval_seeds[25*j: 25*(j+1)])\n",
    "  training_traces.append(training_trace); eval_traces.append(eval_trace); losses.append(loss_episode)\n",
    "\n",
    "  if eval_trace[-1] > best_reward:\n",
    "    best_reward = eval_trace[-1]\n",
    "\n",
    "    torch.save(target_net.state_dict(), ROOT_PATH + \"\/best_DQN_4_2\")"
   ],
   "execution_count":69,
   "outputs":[
    
   ],
   "metadata":{
    "datalore":{
     "node_id":"3VwFOjX7j1tjFJsxrbeGV5",
     "type":"CODE",
     "hide_input_from_viewers":true,
     "hide_output_from_viewers":false,
     "report_properties":{
      "rowId":"HR8HA4mJDJtCKDRc0IxX2p",
      "relativeY":0
     }
    }
   }
  },
  {
   "cell_type":"code",
   "source":[
    "colors = ['b', 'g', 'r', 'c', 'm', 'y', 'k'] \n",
    "\n",
    "for i, x in enumerate(training_traces):\n",
    "    values = [e.item() for e in x]\n",
    "    plt.scatter(np.arange(0, len(values)), values, color=colors[i % len(colors)])\n",
    "    \n",
    "plt.title('Training trace for three training procedures')\n",
    "plt.show()\n",
    "\n",
    "test = np.mean(eval_traces, axis=0)\n",
    "plt.plot(np.arange(0,len(test)), test)\n",
    "plt.title('Cummulative reward during evaluation')\n",
    "plt.show()"
   ],
   "execution_count":70,
   "outputs":[
    {
     "data":{
      "image\/png":"[encoded data removed]"
     },
     "metadata":{
      "image\/png":{
       
      }
     },
     "output_type":"display_data"
    },
    {
     "data":{
      "image\/png":"[encoded data removed]"
     },
     "metadata":{
      "image\/png":{
       
      }
     },
     "output_type":"display_data"
    }
   ],
   "metadata":{
    "datalore":{
     "node_id":"0RQ5PC6loIBLDfX6vWji1o",
     "type":"CODE",
     "hide_input_from_viewers":true,
     "hide_output_from_viewers":false,
     "report_properties":{
      "rowId":"Q0qVJ6kRHehFJdLmNoVxJ9",
      "relativeY":0
     }
    }
   }
  },
  {
   "cell_type":"code",
   "source":[
    "losses = [x.detach().item() for x in losses[0] if x != 0]\n",
    "plt.plot(losses)\n",
    "plt.title('Episode loss during training')\n",
    "plt.show()"
   ],
   "execution_count":71,
   "outputs":[
    {
     "data":{
      "image\/png":"[encoded data removed]"
     },
     "metadata":{
      "image\/png":{
       
      }
     },
     "output_type":"display_data"
    }
   ],
   "metadata":{
    "datalore":{
     "node_id":"fNWFjw6Ny2DXokr73h1Pqp",
     "type":"CODE",
     "hide_input_from_viewers":true,
     "hide_output_from_viewers":false,
     "report_properties":{
      "rowId":"kW9U7nh8wnSymAMDKuTwtm",
      "relativeY":0
     }
    }
   }
  },
  {
   "cell_type":"code",
   "source":[
    "#Define DQN agent \n",
    "class factor_DQNagent(Agent):\n",
    "    def __init__(self,  env:Env,\n",
    "                ):\n",
    "        \"\"\"\n",
    "        DQN agent with factorized Q-values \n",
    "        \"\"\"\n",
    "        self.env = env\n",
    "        self.model = DQN(126, 8).to(DEVICE)\n",
    "\n",
    "    def load_model(self, savepath):\n",
    "        # This is where one would define the routine for loading a pre-trained model\n",
    "        self.model.load_state_dict(torch.load(savepath))\n",
    "\n",
    "    def save_model(self, savepath):\n",
    "        # This is where one would define the routine for saving the weights for a trained model\n",
    "        torch.save(self.model.state_dict(), savepath)\n",
    "\n",
    "    def optimize_model(self):\n",
    "        # This is where one would define the optimization step of an RL algorithm\n",
    "        return 0\n",
    "    \n",
    "    def reset(self,seed):\n",
    "        # This should be called when the environment is reset\n",
    "        self.env.reset(seed)\n",
    "\n",
    "    def act(self, obs, info_=None):\n",
    "        # takes an observation and returns an action\n",
    "        action = {'confinement': False, 'isolation': False, 'hospital': False, 'vaccinate': False}\n",
    "        \n",
    "        with torch.no_grad():\n",
    "          #We pick action with the larger expected reward.\n",
    "          state = (torch.tensor([x.infected + x.dead for x in obs.city.values()], dtype=torch.float32, device=DEVICE).flatten().view(1,-1))**(1\/4)\n",
    "          output = self.model(state).view(4,2).argmax(dim=1).view(4, 1)\n",
    "\n",
    "        for i, key in enumerate(action.keys()):\n",
    "          action[key] = bool(output[i])\n",
    "\n",
    "        return action"
   ],
   "execution_count":72,
   "outputs":[
    
   ],
   "metadata":{
    "datalore":{
     "node_id":"2C1idiBy8OZlHGtF359EUr",
     "type":"CODE",
     "hide_input_from_viewers":true,
     "hide_output_from_viewers":true
    }
   }
  },
  {
   "cell_type":"code",
   "source":[
    "#Load environment \n",
    "env = Env(dyn) \n",
    "\n",
    "#Reset environement and set seed\n",
    "obs, info = env.reset(seed=0)\n",
    "\n",
    "agent = factor_DQNagent(env)\n",
    "agent.load_model(ROOT_PATH +  '\/best_DQN_4_2')\n",
    "agent.reset(0)\n",
    "\n",
    "#Run simulation and save outputed dict\n",
    "log = []\n",
    "i, max_step = 0, 30\n",
    "while i < max_step:\n",
    "    action = agent.act(obs)\n",
    "    obs, R, finished, info = env.step(action)\n",
    "    log.append(info)\n",
    "    i+=1\n",
    "\n",
    "#Parse log\n",
    "total = {p:np.array([getattr(l.total,p) for l in log]) for p in dyn.parameters}\n",
    "cities = {c:{p:np.array([getattr(l.city[c],p) for l in log]) for p in dyn.parameters} for c in dyn.cities}\n",
    "actions = {a:np.array([l.action[a] for l in log]) for a in log[0].action.keys()}"
   ],
   "execution_count":73,
   "outputs":[
    
   ],
   "metadata":{
    "datalore":{
     "node_id":"vwSAQUCzH2SCAR6ciovmk3",
     "type":"CODE",
     "hide_input_from_viewers":true,
     "hide_output_from_viewers":true
    }
   }
  },
  {
   "cell_type":"code",
   "source":[
    "plot_episode(total, cities, actions)"
   ],
   "execution_count":74,
   "outputs":[
    {
     "data":{
      "image\/png":"[encoded data removed]"
     },
     "metadata":{
      "image\/png":{
       
      }
     },
     "output_type":"display_data"
    }
   ],
   "metadata":{
    "datalore":{
     "node_id":"zad291H0awrCLFgC74kfRt",
     "type":"CODE",
     "hide_input_from_viewers":true,
     "hide_output_from_viewers":false,
     "report_properties":{
      "rowId":"9W5pqBo721uqi9G24VU91o",
      "relativeY":0
     }
    }
   }
  },
  {
   "cell_type":"code",
   "source":[
    "def evaluate_policy (policy, env, nb_episode:int, seed:List[int]):\n",
    "  '''\n",
    "  Run multiple episode using the inputed policy and compute for each episode:\n",
    "  - the total number of confinement days\/weeks\n",
    "  - the cummulative reward\n",
    "  - the total number of deaths\n",
    "  parameters:\n",
    "    policy: \n",
    "      policy used to chose next action\n",
    "    env: \n",
    "      environment for the simulation\n",
    "    nb_episode: int,\n",
    "      number of episode played for the estimation\n",
    "    seeds: int, \n",
    "      random sequence of seeds of length nb_episode for reproducibility\n",
    "  '''\n",
    "\n",
    "  #Run multiple episodes\n",
    "  N_conf, cum_reward, nb_deaths = [], [], []\n",
    "  for i in range(0,nb_episode):\n",
    "    #Reset environement\/agent and set seed\n",
    "    obs, info = env.reset(seeds[i])\n",
    "    policy.reset(seeds[i])\n",
    "    \n",
    "    finished = False\n",
    "    ep_N_conf, ep_reward = 0, 0\n",
    "    while not finished:\n",
    "      action = policy.act(obs)\n",
    "      obs, R, finished, info = env.step(action)\n",
    "\n",
    "      #Log reward + confinement week\n",
    "      ep_reward += R.item()\n",
    "      ep_N_conf += int(action['confinement'] == True)\n",
    "\n",
    "    N_conf.append(ep_N_conf); cum_reward.append(ep_reward)\n",
    "    nb_deaths.append(obs.total.dead[-1])\n",
    "\n",
    "  return N_conf, cum_reward, nb_deaths"
   ],
   "execution_count":null,
   "outputs":[
    
   ],
   "metadata":{
    "datalore":{
     "node_id":"fA50LDLEZxzgd2nkO915C0",
     "type":"CODE",
     "hide_input_from_viewers":true,
     "hide_output_from_viewers":true
    }
   }
  },
  {
   "cell_type":"code",
   "source":[
    "#Load environment \n",
    "env = Env(dyn) \n",
    "\n",
    "#Reset environement and set seed\n",
    "obs, info = env.reset(seed=0)\n",
    "\n",
    "#Define Russo agent \n",
    "agent = factor_DQNagent(env)\n",
    "agent.load_model(ROOT_PATH +  '\/best_DQN_4_2')\n",
    "agent.reset(0)\n",
    "\n",
    "seeds = np.arange(0,50,1)\n",
    "N_conf, cum_reward, nb_deaths = evaluate_policy(agent, env, 50, seeds)\n",
    "\n",
    "print(f'Average number of confinement weeks per episode: ', np.mean(N_conf))\n",
    "print('Average cummulative reward: ', np.mean(cum_reward))\n",
    "print('Average number of deaths: ', np.mean(nb_deaths))"
   ],
   "execution_count":null,
   "outputs":[
    {
     "name":"stdout",
     "text":[
      "Average number of confinement weeks per episode:  12.02\n",
      "Average cummulative reward:  -1.6884584061801433\n",
      "Average number of deaths:  22273.92\n"
     ],
     "output_type":"stream"
    }
   ],
   "metadata":{
    "datalore":{
     "node_id":"uZIFxtgbxtGXG5iaWQLsHi",
     "type":"CODE",
     "hide_input_from_viewers":true,
     "hide_output_from_viewers":true
    }
   }
  },
  {
   "cell_type":"code",
   "source":[
    "fig, ax = plt.subplots(2,2,figsize=(18,8))\n",
    "\n",
    "hist_avg(ax[0,0], nb_deaths,'deaths')\n",
    "\n",
    "hist_avg(ax[0,1], cum_reward,'cumulative rewards')\n",
    "\n",
    "N_conf = [x*7 for x in N_conf] #Convert N_conf in days from week\n",
    "hist_avg(ax[1,0], N_conf,'confined days')\n",
    "\n",
    "fig.delaxes(ax[1,1])\n",
    "fig.tight_layout()\n",
    "plt.show()"
   ],
   "execution_count":null,
   "outputs":[
    {
     "data":{
      "text\/plain":[
       "<Figure size 1800x800 with 3 Axes>"
      ]
     },
     "metadata":{
      
     },
     "output_type":"display_data"
    },
    {
     "data":{
      "image\/png":"[encoded data removed]"
     },
     "metadata":{
      "image\/png":{
       
      }
     },
     "output_type":"display_data"
    }
   ],
   "metadata":{
    "datalore":{
     "node_id":"SShWJBkLEaiQVXbuEOz5TD",
     "type":"CODE",
     "hide_input_from_viewers":true,
     "hide_output_from_viewers":false,
     "report_properties":{
      "rowId":"hRKsRhXMA9s6eW56DpVaT2",
      "relativeY":0
     }
    }
   }
  },
  {
   "cell_type":"markdown",
   "source":[
    "# Question 5b"
   ],
   "attachments":{
    
   },
   "metadata":{
    "datalore":{
     "node_id":"KVYFHXuk7HENQcQeoyRpLT",
     "type":"MD",
     "hide_input_from_viewers":true,
     "hide_output_from_viewers":true
    }
   }
  },
  {
   "cell_type":"code",
   "source":[
    "agents = {\"Russo\": RussoAgent, \"SingleDQN\" : binary_DQNagent, \"ToggleDQN\" : toogle_DQNagent, \"FactorDQN\" : factor_DQNagent}\n",
    "model_paths = {\"Russo\": \"\", \"SingleDQN\" : \"\/best_DQN_3_2\", \"ToggleDQN\" : \"\/best_DQN_4_1\", \"FactorDQN\" : \"\/best_DQN_4_2\"}"
   ],
   "execution_count":75,
   "outputs":[
    
   ],
   "metadata":{
    "datalore":{
     "node_id":"s4wrmu2gl7slGWkW6rOpVn",
     "type":"CODE",
     "hide_input_from_viewers":true,
     "hide_output_from_viewers":true
    }
   }
  },
  {
   "cell_type":"code",
   "source":[
    "from typing import List"
   ],
   "execution_count":76,
   "outputs":[
    
   ],
   "metadata":{
    "datalore":{
     "node_id":"xUULejxq6EtHWs8uICBKBv",
     "type":"CODE",
     "hide_input_from_viewers":true,
     "hide_output_from_viewers":true
    }
   }
  },
  {
   "cell_type":"code",
   "source":[
    "def evaluate_policy(agent, env, nb_episode:int, seed:List[int]):\n",
    "    '''\n",
    "    Run multiple episodes using the inputed agent and compute for each episode:\n",
    "    - the total number of confinement days\/weeks\n",
    "    - the cumulative reward\n",
    "    - the total number of deaths\n",
    "    parameters:\n",
    "      agent: \n",
    "        Agent used to chose next action. Must have a method 'act'.\n",
    "      env: \n",
    "        Environment for the simulation.\n",
    "      nb_episode: int,\n",
    "        Number of episode played for the estimation.\n",
    "      seeds: int, \n",
    "        Random sequence of seeds of length nb_episode for reproducibility.\n",
    "    '''\n",
    "\n",
    "    # Run multiple episodes\n",
    "    N_conf, N_iso, N_vacc, N_hosp, cum_reward, nb_deaths, = [], [], [], [], [], []\n",
    "    for i in range(0, nb_episode):\n",
    "        # Reset environment and set seed\n",
    "        obs, info = env.reset(seed[i])\n",
    "        \n",
    "        finished = False\n",
    "        ep_N_conf, ep_N_iso, ep_N_vacc, ep_N_hosp, ep_reward = 0, 0, 0, 0, 0\n",
    "        while not finished:\n",
    "            # Action selection using the agent\n",
    "            action = agent.act(obs, info)\n",
    "            obs, R, finished, info = env.step(action)\n",
    "            env.step(action=action)\n",
    "\n",
    "            # Log reward + confinement week\n",
    "            ep_reward += R.item()\n",
    "            ep_N_conf += int(action['confinement'] == True)\n",
    "            ep_N_iso += int(action['isolation'] == True)\n",
    "            ep_N_vacc += int(action['vaccinate'] == True)\n",
    "            ep_N_hosp += int(action['hospital'] == True)\n",
    "\n",
    "        N_conf.append(ep_N_conf)\n",
    "        N_iso.append(ep_N_iso)\n",
    "        N_vacc.append(ep_N_vacc)\n",
    "        N_hosp.append(ep_N_hosp)\n",
    "        cum_reward.append(ep_reward)\n",
    "        nb_deaths.append(obs.total.dead[-1])\n",
    "\n",
    "    return N_conf,N_iso,N_vacc,N_hosp, cum_reward, nb_deaths"
   ],
   "execution_count":77,
   "outputs":[
    
   ],
   "metadata":{
    "datalore":{
     "node_id":"uAO6nJAhGRSWQSJTlzHz3O",
     "type":"CODE",
     "hide_input_from_viewers":true,
     "hide_output_from_viewers":true
    }
   }
  },
  {
   "cell_type":"code",
   "source":[
    "table_dict={}\n",
    "for str_agent in agents.keys():\n",
    "    #Load environment \n",
    "    env = Env(dyn) \n",
    "\n",
    "    #Reset environement and set seed\n",
    "    obs, info = env.reset(seed=0)\n",
    "\n",
    "    \n",
    "    agent = agents[str_agent](env)\n",
    "    agent.load_model(ROOT_PATH +  model_paths[str_agent])\n",
    "    agent.reset(0)\n",
    "\n",
    "    seeds = np.arange(0,50,1)\n",
    "    N_conf,N_iso,N_vacc,N_hosp, cum_reward, nb_deaths = evaluate_policy(agent, env, 50, seeds)\n",
    "    table_dict[str_agent] = {\"Confinement\" : np.mean(N_conf),\n",
    "                             \"Isolation\" : np.mean(N_iso),\n",
    "                             \"Vaccinate\" : np.mean(N_vacc),\n",
    "                             \"Hospital\" : np.mean(N_hosp),\n",
    "                             \"Cumulative Reward\" : np.mean(cum_reward),\n",
    "                             \"Deaths\" : np.mean(nb_deaths)}\n",
    "    "
   ],
   "execution_count":191,
   "outputs":[
    
   ],
   "metadata":{
    "datalore":{
     "node_id":"COLAq6kWa6cjMnWCIsSKkc",
     "type":"CODE",
     "hide_input_from_viewers":true,
     "hide_output_from_viewers":true
    }
   }
  },
  {
   "cell_type":"code",
   "source":[
    "import pandas as pd\n",
    "table_final = pd.DataFrame(table_dict)"
   ],
   "execution_count":79,
   "outputs":[
    
   ],
   "metadata":{
    "datalore":{
     "node_id":"AUfr9sVm9NztR9oI0jPbNk",
     "type":"CODE",
     "hide_input_from_viewers":true,
     "hide_output_from_viewers":true
    }
   }
  },
  {
   "cell_type":"code",
   "source":[
    "table_final"
   ],
   "execution_count":80,
   "outputs":[
    {
     "data":{
      "text\/html":[
       "<div>\n",
       "<style scoped>\n",
       "    .dataframe tbody tr th:only-of-type {\n",
       "        vertical-align: middle;\n",
       "    }\n",
       "\n",
       "    .dataframe tbody tr th {\n",
       "        vertical-align: top;\n",
       "    }\n",
       "\n",
       "    .dataframe thead th {\n",
       "        text-align: right;\n",
       "    }\n",
       "<\/style>\n",
       "<table border=\"1\" class=\"dataframe\">\n",
       "  <thead>\n",
       "    <tr style=\"text-align: right;\">\n",
       "      <th><\/th>\n",
       "      <th>Russo<\/th>\n",
       "      <th>SingleDQN<\/th>\n",
       "      <th>ToggleDQN<\/th>\n",
       "      <th>FactorDQN<\/th>\n",
       "    <\/tr>\n",
       "  <\/thead>\n",
       "  <tbody>\n",
       "    <tr>\n",
       "      <th>Confinement<\/th>\n",
       "      <td>7.840000<\/td>\n",
       "      <td>9.980000<\/td>\n",
       "      <td>9.16000<\/td>\n",
       "      <td>15.920000<\/td>\n",
       "    <\/tr>\n",
       "    <tr>\n",
       "      <th>Isolation<\/th>\n",
       "      <td>0.000000<\/td>\n",
       "      <td>0.000000<\/td>\n",
       "      <td>0.00000<\/td>\n",
       "      <td>0.000000<\/td>\n",
       "    <\/tr>\n",
       "    <tr>\n",
       "      <th>Vaccinate<\/th>\n",
       "      <td>0.000000<\/td>\n",
       "      <td>0.000000<\/td>\n",
       "      <td>0.00000<\/td>\n",
       "      <td>16.000000<\/td>\n",
       "    <\/tr>\n",
       "    <tr>\n",
       "      <th>Hospital<\/th>\n",
       "      <td>0.000000<\/td>\n",
       "      <td>0.000000<\/td>\n",
       "      <td>7.42000<\/td>\n",
       "      <td>13.100000<\/td>\n",
       "    <\/tr>\n",
       "    <tr>\n",
       "      <th>Cumulative Reward<\/th>\n",
       "      <td>-79.874335<\/td>\n",
       "      <td>-20.710353<\/td>\n",
       "      <td>-15.37656<\/td>\n",
       "      <td>-10.579246<\/td>\n",
       "    <\/tr>\n",
       "    <tr>\n",
       "      <th>Deaths<\/th>\n",
       "      <td>94244.760000<\/td>\n",
       "      <td>38876.260000<\/td>\n",
       "      <td>32933.68000<\/td>\n",
       "      <td>290.840000<\/td>\n",
       "    <\/tr>\n",
       "  <\/tbody>\n",
       "<\/table>\n",
       "<\/div>"
      ]
     },
     "metadata":{
      
     },
     "output_type":"display_data"
    }
   ],
   "metadata":{
    "datalore":{
     "node_id":"TZYmlmQS3eIfEeqNuFJBIO",
     "type":"CODE",
     "hide_input_from_viewers":true,
     "hide_output_from_viewers":false,
     "report_properties":{
      "rowId":"XQkJOVqUgmx6tuuGQ4t9K7"
     }
    }
   }
  },
  {
   "cell_type":"markdown",
   "source":[
    "# 5c"
   ],
   "attachments":{
    
   },
   "metadata":{
    "datalore":{
     "node_id":"IpN4pcQ0nqji6zXeVjFNOw",
     "type":"MD",
     "hide_input_from_viewers":true,
     "hide_output_from_viewers":true
    }
   }
  },
  {
   "cell_type":"code",
   "source":[
    "def simulate_with_q_values(agent, env, seed, episode_length):\n",
    "    obs, info = env.reset(seed)\n",
    "    episode_q_values = []\n",
    "\n",
    "    for _ in range(episode_length):\n",
    "        action = {'confinement': False, 'isolation': False, 'hospital': False, 'vaccinate': False}\n",
    "\n",
    "        with torch.no_grad():\n",
    "            state = (torch.tensor([x.infected + x.dead for x in obs.city.values()], dtype=torch.float32, device=DEVICE).flatten().view(1,-1))**(1\/4)\n",
    "            print(agent.model(state).view(4,2))\n",
    "            q_values = agent.model(state).view(1,8)\n",
    "            output = agent.model(state).view(4,2).argmax(dim=1).view(4, 1)\n",
    "\n",
    "        for i, key in enumerate(action.keys()):\n",
    "            action[key] = bool(output[i])\n",
    "\n",
    "        episode_q_values.append(q_values)\n",
    "\n",
    "        obs, reward, done, info = env.step(action)\n",
    "\n",
    "        if done:\n",
    "            break\n",
    "\n",
    "    return episode_q_values"
   ],
   "execution_count":211,
   "outputs":[
    
   ],
   "metadata":{
    "datalore":{
     "node_id":"u0NAAcRDmykFMzXKdoErYL",
     "type":"CODE",
     "hide_input_from_viewers":true,
     "hide_output_from_viewers":true
    }
   }
  },
  {
   "cell_type":"code",
   "source":[
    "env = Env(dyn) \n",
    "\n",
    "#Reset environement and set seed\n",
    "obs, info = env.reset(seed=0)\n",
    "\n",
    "agent = factor_DQNagent(env)\n",
    "agent.load_model(ROOT_PATH +  '\/best_DQN_4_2')\n",
    "agent.reset(0)\n",
    "\n",
    "episode_q_values = simulate_with_q_values(agent, env, seed=0, episode_length=30)"
   ],
   "execution_count":212,
   "outputs":[
    {
     "name":"stdout",
     "text":[
      "tensor([[-0.2676, -0.1587],\n",
      "        [ 0.2802,  0.0246],\n",
      "        [-0.1211, -0.0938],\n",
      "        [-0.3915, -0.0557]], device='cuda:0')\n",
      "tensor([[-0.2360, -0.1542],\n",
      "        [ 0.2847,  0.0406],\n",
      "        [-0.1412, -0.1047],\n",
      "        [-0.3887, -0.0474]], device='cuda:0')\n",
      "tensor([[-0.2364, -0.1421],\n",
      "        [ 0.2665,  0.0474],\n",
      "        [-0.1580, -0.1130],\n",
      "        [-0.3786, -0.0354]], device='cuda:0')\n",
      "tensor([[-0.2500, -0.1488],\n",
      "        [ 0.2646,  0.0415],\n",
      "        [-0.1341, -0.0997],\n",
      "        [-0.3894, -0.0352]], device='cuda:0')\n",
      "tensor([[-0.2605, -0.1389],\n",
      "        [ 0.2534,  0.0287],\n",
      "        [-0.1090, -0.0926],\n",
      "        [-0.3744, -0.0365]], device='cuda:0')\n",
      "tensor([[-0.2498, -0.1133],\n",
      "        [ 0.2651,  0.0558],\n",
      "        [-0.1022, -0.0848],\n",
      "        [-0.3684, -0.0152]], device='cuda:0')\n",
      "tensor([[-0.2610, -0.1183],\n",
      "        [ 0.2593,  0.0422],\n",
      "        [-0.0870, -0.0776],\n",
      "        [-0.3677, -0.0249]], device='cuda:0')\n",
      "tensor([[-0.2609, -0.1071],\n",
      "        [ 0.2523,  0.0389],\n",
      "        [-0.0718, -0.0649],\n",
      "        [-0.3701, -0.0269]], device='cuda:0')\n",
      "tensor([[-0.2666, -0.1062],\n",
      "        [ 0.2564,  0.0409],\n",
      "        [-0.0624, -0.0605],\n",
      "        [-0.3664, -0.0220]], device='cuda:0')\n",
      "tensor([[-0.2660, -0.0995],\n",
      "        [ 0.2587,  0.0460],\n",
      "        [-0.0583, -0.0534],\n",
      "        [-0.3687, -0.0232]], device='cuda:0')\n",
      "tensor([[-0.2660, -0.0995],\n",
      "        [ 0.2587,  0.0460],\n",
      "        [-0.0583, -0.0534],\n",
      "        [-0.3687, -0.0232]], device='cuda:0')\n",
      "tensor([[-0.2660, -0.0995],\n",
      "        [ 0.2587,  0.0460],\n",
      "        [-0.0583, -0.0534],\n",
      "        [-0.3687, -0.0232]], device='cuda:0')\n",
      "tensor([[-0.2660, -0.0995],\n",
      "        [ 0.2587,  0.0460],\n",
      "        [-0.0583, -0.0534],\n",
      "        [-0.3687, -0.0232]], device='cuda:0')\n",
      "tensor([[-0.2660, -0.0995],\n",
      "        [ 0.2587,  0.0460],\n",
      "        [-0.0583, -0.0534],\n",
      "        [-0.3687, -0.0232]], device='cuda:0')\n",
      "tensor([[-0.2660, -0.0995],\n",
      "        [ 0.2587,  0.0460],\n",
      "        [-0.0583, -0.0534],\n",
      "        [-0.3687, -0.0232]], device='cuda:0')\n",
      "tensor([[-0.2660, -0.0995],\n",
      "        [ 0.2587,  0.0460],\n",
      "        [-0.0583, -0.0534],\n",
      "        [-0.3687, -0.0232]], device='cuda:0')\n",
      "tensor([[-0.2660, -0.0995],\n",
      "        [ 0.2587,  0.0460],\n",
      "        [-0.0583, -0.0534],\n",
      "        [-0.3687, -0.0232]], device='cuda:0')\n",
      "tensor([[-0.2660, -0.0995],\n",
      "        [ 0.2587,  0.0460],\n",
      "        [-0.0583, -0.0534],\n",
      "        [-0.3687, -0.0232]], device='cuda:0')\n",
      "tensor([[-0.2660, -0.0995],\n",
      "        [ 0.2587,  0.0460],\n",
      "        [-0.0583, -0.0534],\n",
      "        [-0.3687, -0.0232]], device='cuda:0')\n",
      "tensor([[-0.2660, -0.0995],\n",
      "        [ 0.2587,  0.0460],\n",
      "        [-0.0583, -0.0534],\n",
      "        [-0.3687, -0.0232]], device='cuda:0')\n",
      "tensor([[-0.2660, -0.0995],\n",
      "        [ 0.2587,  0.0460],\n",
      "        [-0.0583, -0.0534],\n",
      "        [-0.3687, -0.0232]], device='cuda:0')\n",
      "tensor([[-0.2660, -0.0995],\n",
      "        [ 0.2587,  0.0460],\n",
      "        [-0.0583, -0.0534],\n",
      "        [-0.3687, -0.0232]], device='cuda:0')\n",
      "tensor([[-0.2660, -0.0995],\n",
      "        [ 0.2587,  0.0460],\n",
      "        [-0.0583, -0.0534],\n",
      "        [-0.3687, -0.0232]], device='cuda:0')\n",
      "tensor([[-0.2660, -0.0995],\n",
      "        [ 0.2587,  0.0460],\n",
      "        [-0.0583, -0.0534],\n",
      "        [-0.3687, -0.0232]], device='cuda:0')\n",
      "tensor([[-0.2660, -0.0995],\n",
      "        [ 0.2587,  0.0460],\n",
      "        [-0.0583, -0.0534],\n",
      "        [-0.3687, -0.0232]], device='cuda:0')\n",
      "tensor([[-0.2660, -0.0995],\n",
      "        [ 0.2587,  0.0460],\n",
      "        [-0.0583, -0.0534],\n",
      "        [-0.3687, -0.0232]], device='cuda:0')\n",
      "tensor([[-0.2660, -0.0995],\n",
      "        [ 0.2587,  0.0460],\n",
      "        [-0.0583, -0.0534],\n",
      "        [-0.3687, -0.0232]], device='cuda:0')\n",
      "tensor([[-0.2660, -0.0995],\n",
      "        [ 0.2587,  0.0460],\n",
      "        [-0.0583, -0.0534],\n",
      "        [-0.3687, -0.0232]], device='cuda:0')\n",
      "tensor([[-0.2660, -0.0995],\n",
      "        [ 0.2587,  0.0460],\n",
      "        [-0.0583, -0.0534],\n",
      "        [-0.3687, -0.0232]], device='cuda:0')\n",
      "tensor([[-0.2660, -0.0995],\n",
      "        [ 0.2587,  0.0460],\n",
      "        [-0.0583, -0.0534],\n",
      "        [-0.3687, -0.0232]], device='cuda:0')\n"
     ],
     "output_type":"stream"
    }
   ],
   "metadata":{
    "datalore":{
     "node_id":"UvpBifZ19WZqojSaQ539CV",
     "type":"CODE",
     "hide_input_from_viewers":true,
     "hide_output_from_viewers":true
    }
   }
  },
  {
   "cell_type":"code",
   "source":[
    "la = [str(e) for key in actions.keys() for e in [ \"no \" + key[:4], key[:4]]]\n",
    "la\n"
   ],
   "execution_count":213,
   "outputs":[
    {
     "data":{
      "text\/plain":[
       "['no conf', 'conf', 'no isol', 'isol', 'no vacc', 'vacc', 'no hosp', 'hosp']"
      ]
     },
     "metadata":{
      
     },
     "output_type":"display_data"
    }
   ],
   "metadata":{
    "datalore":{
     "node_id":"7qXeLTz8NkLHiUrdjIHvcD",
     "type":"CODE",
     "hide_input_from_viewers":true,
     "hide_output_from_viewers":true
    }
   }
  },
  {
   "cell_type":"code",
   "source":[
    "\n",
    "episode_q_values_matrix = torch.stack(episode_q_values).detach().cpu().numpy()\n",
    "reshaped_q_values_matrix = episode_q_values_matrix.reshape(30,8)\n",
    "\n",
    "\n",
    "\n",
    "plt.figure(figsize=(15, 12))\n",
    "sns.heatmap(reshaped_q_values_matrix.T, cmap='viridis', yticklabels= la)\n",
    "plt.xlabel(\"Weeks\")\n",
    "#plt.ylabel(\"Action Selections\")\n",
    "plt.title(\"Evolution of Q-values over time\")\n",
    "plt.show()\n",
    "\n",
    "print( reshaped_q_values_matrix)"
   ],
   "execution_count":214,
   "outputs":[
    {
     "name":"stdout",
     "text":[
      "[[-0.26762503 -0.15867183  0.28023946  0.02461815 -0.12114947 -0.09378097\n",
      "  -0.3915149  -0.05572999]\n",
      " [-0.2360312  -0.1542354   0.28465834  0.04060461 -0.14117864 -0.10470271\n",
      "  -0.38872117 -0.04744269]\n",
      " [-0.23643205 -0.14212677  0.2665194   0.04735937 -0.15798374 -0.11298132\n",
      "  -0.37857944 -0.03542279]\n",
      " [-0.24999596 -0.14880657  0.2646141   0.04151975 -0.1340683  -0.09970281\n",
      "  -0.38942122 -0.03521387]\n",
      " [-0.26048216 -0.13892916  0.2533891   0.0287037  -0.10902907 -0.09259449\n",
      "  -0.37443477 -0.03648235]\n",
      " [-0.2497834  -0.11326781  0.2651298   0.05577351 -0.10222477 -0.0847777\n",
      "  -0.36841622 -0.01516773]\n",
      " [-0.26102188 -0.11827281  0.259282    0.04221073 -0.08697288 -0.07761443\n",
      "  -0.36771753 -0.02489653]\n",
      " [-0.2608503  -0.10710469  0.25230706  0.03885926 -0.07179222 -0.06486646\n",
      "  -0.37012696 -0.0269222 ]\n",
      " [-0.2665984  -0.10624714  0.25643796  0.04091303 -0.06243325 -0.06053756\n",
      "  -0.36635625 -0.02196695]\n",
      " [-0.26600626 -0.09954147  0.25870907  0.04597673 -0.0582835  -0.05342055\n",
      "  -0.36867103 -0.02323784]\n",
      " [-0.26600626 -0.09954147  0.25870907  0.04597673 -0.0582835  -0.05342055\n",
      "  -0.36867103 -0.02323784]\n",
      " [-0.26600626 -0.09954147  0.25870907  0.04597673 -0.0582835  -0.05342055\n",
      "  -0.36867103 -0.02323784]\n",
      " [-0.26600626 -0.09954147  0.25870907  0.04597673 -0.0582835  -0.05342055\n",
      "  -0.36867103 -0.02323784]\n",
      " [-0.26600626 -0.09954147  0.25870907  0.04597673 -0.0582835  -0.05342055\n",
      "  -0.36867103 -0.02323784]\n",
      " [-0.26600626 -0.09954147  0.25870907  0.04597673 -0.0582835  -0.05342055\n",
      "  -0.36867103 -0.02323784]\n",
      " [-0.26600626 -0.09954147  0.25870907  0.04597673 -0.0582835  -0.05342055\n",
      "  -0.36867103 -0.02323784]\n",
      " [-0.26600626 -0.09954147  0.25870907  0.04597673 -0.0582835  -0.05342055\n",
      "  -0.36867103 -0.02323784]\n",
      " [-0.26600626 -0.09954147  0.25870907  0.04597673 -0.0582835  -0.05342055\n",
      "  -0.36867103 -0.02323784]\n",
      " [-0.26600626 -0.09954147  0.25870907  0.04597673 -0.0582835  -0.05342055\n",
      "  -0.36867103 -0.02323784]\n",
      " [-0.26600626 -0.09954147  0.25870907  0.04597673 -0.0582835  -0.05342055\n",
      "  -0.36867103 -0.02323784]\n",
      " [-0.26600626 -0.09954147  0.25870907  0.04597673 -0.0582835  -0.05342055\n",
      "  -0.36867103 -0.02323784]\n",
      " [-0.26600626 -0.09954147  0.25870907  0.04597673 -0.0582835  -0.05342055\n",
      "  -0.36867103 -0.02323784]\n",
      " [-0.26600626 -0.09954147  0.25870907  0.04597673 -0.0582835  -0.05342055\n",
      "  -0.36867103 -0.02323784]\n",
      " [-0.26600626 -0.09954147  0.25870907  0.04597673 -0.0582835  -0.05342055\n",
      "  -0.36867103 -0.02323784]\n",
      " [-0.26600626 -0.09954147  0.25870907  0.04597673 -0.0582835  -0.05342055\n",
      "  -0.36867103 -0.02323784]\n",
      " [-0.26600626 -0.09954147  0.25870907  0.04597673 -0.0582835  -0.05342055\n",
      "  -0.36867103 -0.02323784]\n",
      " [-0.26600626 -0.09954147  0.25870907  0.04597673 -0.0582835  -0.05342055\n",
      "  -0.36867103 -0.02323784]\n",
      " [-0.26600626 -0.09954147  0.25870907  0.04597673 -0.0582835  -0.05342055\n",
      "  -0.36867103 -0.02323784]\n",
      " [-0.26600626 -0.09954147  0.25870907  0.04597673 -0.0582835  -0.05342055\n",
      "  -0.36867103 -0.02323784]\n",
      " [-0.26600626 -0.09954147  0.25870907  0.04597673 -0.0582835  -0.05342055\n",
      "  -0.36867103 -0.02323784]]\n"
     ],
     "output_type":"stream"
    },
    {
     "data":{
      "image\/png":"[encoded data removed]"
     },
     "metadata":{
      "image\/png":{
       
      }
     },
     "output_type":"display_data"
    }
   ],
   "metadata":{
    "datalore":{
     "node_id":"3qgjhhvCgNzcXxN2WVj1Yt",
     "type":"CODE",
     "hide_input_from_viewers":true,
     "hide_output_from_viewers":false,
     "report_properties":{
      "rowId":"14sfMOzLFJVd1PwcjJREDQ"
     }
    }
   }
  },
  {
   "cell_type":"code",
   "source":[
    "def simulate_with_q_values_single_action(agent, env, seed, episode_length):\n",
    "    obs, info = env.reset(seed)\n",
    "    episode_q_values = []\n",
    "\n",
    "    for _ in range(episode_length):\n",
    "        action = {'confinement': False, 'isolation': False, 'hospital': False, 'vaccinate': False}\n",
    "\n",
    "        with torch.no_grad():\n",
    "            state = (torch.tensor([x.infected + x.dead for x in obs.city.values()], dtype=torch.float32, device=DEVICE).flatten().view(1,-1))**(1\/4)\n",
    "            q_values = agent.model(state).view(1,2)\n",
    "            output = q_values.argmax(dim=1).view(1, 1)\n",
    "    \n",
    "        action['confinement'] = bool(output[0])\n",
    "        print(action)\n",
    "        episode_q_values.append(q_values)\n",
    "\n",
    "        obs, reward, done, _ = env.step(action)\n",
    "\n",
    "        if done:\n",
    "            break\n",
    "\n",
    "    return episode_q_values"
   ],
   "execution_count":215,
   "outputs":[
    
   ],
   "metadata":{
    "datalore":{
     "node_id":"5sNC8on9Eg2llPU31ViaRw",
     "type":"CODE",
     "hide_input_from_viewers":true,
     "hide_output_from_viewers":true
    }
   }
  },
  {
   "cell_type":"code",
   "source":[
    "env = Env(dyn) \n",
    "\n",
    "#Reset environement and set seed\n",
    "obs, info = env.reset(seed=0)\n",
    "\n",
    "agent = binary_DQNagent(env)\n",
    "agent.load_model(ROOT_PATH +  '\/best_DQN_3_2')\n",
    "agent.reset(0)\n",
    "\n",
    "episode_q_values = simulate_with_q_values_single_action(agent, env, seed=0, episode_length=30)"
   ],
   "execution_count":216,
   "outputs":[
    {
     "name":"stdout",
     "text":[
      "{'confinement': False, 'isolation': False, 'hospital': False, 'vaccinate': False}\n",
      "{'confinement': False, 'isolation': False, 'hospital': False, 'vaccinate': False}\n",
      "{'confinement': True, 'isolation': False, 'hospital': False, 'vaccinate': False}\n",
      "{'confinement': True, 'isolation': False, 'hospital': False, 'vaccinate': False}\n",
      "{'confinement': True, 'isolation': False, 'hospital': False, 'vaccinate': False}\n",
      "{'confinement': True, 'isolation': False, 'hospital': False, 'vaccinate': False}\n",
      "{'confinement': False, 'isolation': False, 'hospital': False, 'vaccinate': False}\n",
      "{'confinement': False, 'isolation': False, 'hospital': False, 'vaccinate': False}\n",
      "{'confinement': True, 'isolation': False, 'hospital': False, 'vaccinate': False}\n",
      "{'confinement': True, 'isolation': False, 'hospital': False, 'vaccinate': False}\n",
      "{'confinement': True, 'isolation': False, 'hospital': False, 'vaccinate': False}\n",
      "{'confinement': True, 'isolation': False, 'hospital': False, 'vaccinate': False}\n",
      "{'confinement': True, 'isolation': False, 'hospital': False, 'vaccinate': False}\n",
      "{'confinement': True, 'isolation': False, 'hospital': False, 'vaccinate': False}\n",
      "{'confinement': True, 'isolation': False, 'hospital': False, 'vaccinate': False}\n",
      "{'confinement': True, 'isolation': False, 'hospital': False, 'vaccinate': False}\n",
      "{'confinement': True, 'isolation': False, 'hospital': False, 'vaccinate': False}\n",
      "{'confinement': True, 'isolation': False, 'hospital': False, 'vaccinate': False}\n",
      "{'confinement': True, 'isolation': False, 'hospital': False, 'vaccinate': False}\n",
      "{'confinement': True, 'isolation': False, 'hospital': False, 'vaccinate': False}\n",
      "{'confinement': True, 'isolation': False, 'hospital': False, 'vaccinate': False}\n",
      "{'confinement': True, 'isolation': False, 'hospital': False, 'vaccinate': False}\n",
      "{'confinement': True, 'isolation': False, 'hospital': False, 'vaccinate': False}\n",
      "{'confinement': True, 'isolation': False, 'hospital': False, 'vaccinate': False}\n",
      "{'confinement': True, 'isolation': False, 'hospital': False, 'vaccinate': False}\n",
      "{'confinement': True, 'isolation': False, 'hospital': False, 'vaccinate': False}\n",
      "{'confinement': True, 'isolation': False, 'hospital': False, 'vaccinate': False}\n",
      "{'confinement': True, 'isolation': False, 'hospital': False, 'vaccinate': False}\n",
      "{'confinement': True, 'isolation': False, 'hospital': False, 'vaccinate': False}\n",
      "{'confinement': True, 'isolation': False, 'hospital': False, 'vaccinate': False}\n"
     ],
     "output_type":"stream"
    }
   ],
   "metadata":{
    "datalore":{
     "node_id":"MxivRUkwXm2Uh0dZPpJmXL",
     "type":"CODE",
     "hide_input_from_viewers":true,
     "hide_output_from_viewers":true
    }
   }
  },
  {
   "cell_type":"code",
   "source":[
    "\n",
    "episode_q_values_matrix = torch.stack(episode_q_values).detach().cpu().numpy()\n",
    "\n",
    "plt.figure(figsize=(10, 8))\n",
    "sns.heatmap(episode_q_values_matrix.reshape(2,30), cmap='viridis',yticklabels=[\"no conf\",\"conf\"])\n",
    "plt.xlabel(\"Weeks\")\n",
    "plt.ylabel(\"Action Selections\")\n",
    "plt.title(\"Evolution of Q-values over time\")\n",
    "plt.show()"
   ],
   "execution_count":217,
   "outputs":[
    {
     "data":{
      "image\/png":"[encoded data removed]"
     },
     "metadata":{
      "image\/png":{
       
      }
     },
     "output_type":"display_data"
    }
   ],
   "metadata":{
    "datalore":{
     "node_id":"ITwY0uTTeMYWEFopAOHxzB",
     "type":"CODE",
     "hide_input_from_viewers":true,
     "hide_output_from_viewers":false,
     "report_properties":{
      "rowId":"CMGflIntb7TJmPQ5rbeuzM"
     }
    }
   }
  },
  {
   "cell_type":"code",
   "source":[
    
   ],
   "execution_count":null,
   "outputs":[
    
   ],
   "metadata":{
    "datalore":{
     "node_id":"NjWqoRNBwG0hacJLtpRMCC",
     "type":"CODE",
     "hide_input_from_viewers":true,
     "hide_output_from_viewers":true
    }
   }
  },
  {
   "cell_type":"code",
   "source":[
    
   ],
   "execution_count":null,
   "outputs":[
    
   ],
   "metadata":{
    "datalore":{
     "node_id":"KM13RT2JXUykMYsE1LOgSQ",
     "type":"CODE",
     "hide_input_from_viewers":true,
     "hide_output_from_viewers":true
    }
   }
  }
 ],
 "metadata":{
  "kernelspec":{
   "display_name":"Python",
   "language":"python",
   "name":"python"
  },
  "datalore":{
   "computation_mode":"JUPYTER",
   "package_manager":"pip",
   "base_environment":"default",
   "packages":[
    
   ],
   "report_row_ids":[
    "Nu2wkxSJ92EzJEOW8xgFKI",
    "QfiUFMGot4bWe5BTEc875Q",
    "v9JFkVZ2onxFUiCySVhJAn",
    "x5zvPbl0uwHJusVozp2ny6",
    "1QJr0z9ruH0mgjIYvTzTeu",
    "i2YAnM4D3vkAtpqF9ZyE3t",
    "lo31CR42cGOf2GxJp4z6yi",
    "b3m7sKR0Mk4tZak383cWse",
    "uqOtj20MZ1GUd171oEU72z",
    "Uw95MSnfRdmxjw8Ij1Tpvt",
    "mBLuOclnisxv3mH2cXzKWF",
    "97s5A5nTbIocG6XPDl6wOx",
    "zY1kCy583qyJXrlVcN0L1v",
    "VJFbWeVawHWDVkDew3rV2W",
    "LATxeloV1eaMk4S0RUo6vD",
    "C052ZUVcdAx9Xyi8MfT7NL",
    "GO8hpE5EfFYByCdHLMQhLO",
    "DARjK9Xyky9n0HCmQowfgE",
    "pIoqOAsQLoe8u9SB56nVWR",
    "eAyURqsUXXvr5BXuEM6OZf",
    "NPL2AAc811p4fFkEejyx3q",
    "yFviVQdGbB37jsYAUDA9YG",
    "2mbox357lBTE3hHUz0C7d4",
    "wh3IdVdFX55lQjjDwmMbxh",
    "8UpjvRHJVI31vESf08w9EU",
    "2dn2Z5p6hLgaEz4ueXZq0c",
    "hR1ea6IVqcxFLfNtlTHKMu",
    "NOVkbhZmIwaHnGAq0s52Su",
    "gBKiJhHgeO1Oj8Wm8goXrq",
    "Q0qVJ6kRHehFJdLmNoVxJ9",
    "kW9U7nh8wnSymAMDKuTwtm",
    "9W5pqBo721uqi9G24VU91o",
    "hRKsRhXMA9s6eW56DpVaT2",
    "XQkJOVqUgmx6tuuGQ4t9K7",
    "14sfMOzLFJVd1PwcjJREDQ",
    "CMGflIntb7TJmPQ5rbeuzM"
   ],
   "version":3
  }
 },
 "nbformat":4,
 "nbformat_minor":4
}